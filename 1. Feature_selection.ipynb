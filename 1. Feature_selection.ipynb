{
 "cells": [
  {
   "cell_type": "code",
   "execution_count": 1,
   "id": "270c0132",
   "metadata": {},
   "outputs": [],
   "source": [
    "import numpy as np\n",
    "import pandas as pd\n",
    "import matplotlib.pyplot as plt\n",
    "import seaborn as sns\n",
    "\n",
    "import sklearn.metrics as mx\n",
    "from sklearn.decomposition import PCA, SparsePCA, KernelPCA\n",
    "from sklearn.model_selection import StratifiedKFold, GridSearchCV, train_test_split,KFold, cross_val_score, cross_validate\n",
    "from sklearn.ensemble import RandomForestClassifier, RandomForestRegressor, GradientBoostingClassifier\n",
    "from sklearn.metrics import roc_curve, plot_roc_curve, confusion_matrix, roc_auc_score, f1_score, accuracy_score, balanced_accuracy_score, classification_report,RocCurveDisplay,auc\n",
    "from sklearn.svm import SVC, LinearSVC, NuSVC, SVR, NuSVR, LinearSVR\n",
    "from sklearn.feature_selection import RFECV\n",
    "from sklearn.preprocessing import StandardScaler\n",
    "from sklearn.neural_network import MLPClassifier \n",
    "from sklearn.cross_decomposition import PLSRegression\n",
    "from sklearn.model_selection import RepeatedKFold\n",
    "from sklearn import model_selection\n",
    "from sklearn.preprocessing import scale \n",
    "\n",
    "from numpy import mean, std\n",
    "\n",
    "from sklearn.cluster import DBSCAN, OPTICS\n",
    "from sklearn.neighbors import NearestNeighbors\n",
    "from sklearn import metrics\n",
    "from sklearn.inspection import permutation_importance\n"
   ]
  },
  {
   "cell_type": "code",
   "execution_count": 2,
   "id": "958e522a",
   "metadata": {},
   "outputs": [],
   "source": [
    "circRNA_HCC=pd.read_table('HCC_circRNAs.txt').T\n",
    "circRNA_HCC.columns=circRNA_HCC.iloc[0]\n",
    "circRNA_HCC=circRNA_HCC.iloc[1:,:]\n",
    "\n",
    "circRNA_Healthy=pd.read_table('Healthy_circRNAs.txt').T\n",
    "circRNA_Healthy.columns=circRNA_Healthy.iloc[0]\n",
    "circRNA_Healthy=circRNA_Healthy.iloc[1:,:]\n",
    "\n",
    "\n",
    "circRNA=pd.concat([circRNA_HCC,circRNA_Healthy],axis=0)\n",
    "\n",
    "longRNA_HCC=pd.read_table('HCC_longRNAs.txt').T\n",
    "longRNA_HCC.columns=longRNA_HCC.iloc[0]\n",
    "longRNA_HCC=longRNA_HCC.iloc[1:,:]\n",
    "\n",
    "longRNA_Healthy=pd.read_table('Healthy_longRNAs.txt').T\n",
    "longRNA_Healthy.columns=longRNA_Healthy.iloc[0]\n",
    "longRNA_Healthy=longRNA_Healthy.iloc[1:,:]\n",
    "\n",
    "longRNA_HCC['Group']='1'\n",
    "longRNA_Healthy['Group']='0'\n",
    "longRNA=pd.concat([longRNA_HCC,longRNA_Healthy],axis=0)\n",
    "\n",
    "full_data=pd.concat([circRNA,longRNA], axis=1, ignore_index=True)\n",
    "full_data.columns=circRNA.columns.append(longRNA.columns)\n"
   ]
  },
  {
   "cell_type": "code",
   "execution_count": 3,
   "id": "6825557f",
   "metadata": {},
   "outputs": [
    {
     "name": "stdout",
     "output_type": "stream",
     "text": [
      "(230, 79084)\n",
      "(230, 35518)\n",
      "(230, 114602)\n"
     ]
    }
   ],
   "source": [
    "print(circRNA.shape)\n",
    "print(longRNA.shape)\n",
    "print(full_data.shape)\n"
   ]
  },
  {
   "cell_type": "code",
   "execution_count": 4,
   "id": "61629c99",
   "metadata": {},
   "outputs": [],
   "source": [
    "Y=full_data.iloc[:,full_data.columns == 'Group']\n",
    "X=full_data.iloc[:,full_data.columns != 'Group']"
   ]
  },
  {
   "cell_type": "code",
   "execution_count": 5,
   "id": "4d20beab",
   "metadata": {},
   "outputs": [],
   "source": [
    "from sklearn.model_selection import train_test_split\n",
    "\n",
    "# Split the df into 80% train 20% test data; then further split\n",
    "X_train, X_test, Y_train, Y_test = train_test_split(X, Y, test_size= 0.20, random_state=1303,stratify=Y, shuffle = True)\n",
    "X_tr, X_val, Y_tr, Y_val = train_test_split(X_train, Y_train, test_size= 0.20, random_state=1303,stratify=Y_train,shuffle = True)"
   ]
  },
  {
   "cell_type": "code",
   "execution_count": 7,
   "id": "a1742ea5",
   "metadata": {},
   "outputs": [
    {
     "name": "stdout",
     "output_type": "stream",
     "text": [
      "Group    94\n",
      "dtype: int64\n",
      "184\n",
      "Group    19\n",
      "dtype: int64\n",
      "37\n",
      "Group    24\n",
      "dtype: int64\n"
     ]
    },
    {
     "data": {
      "text/plain": [
       "46"
      ]
     },
     "execution_count": 7,
     "metadata": {},
     "output_type": "execute_result"
    }
   ],
   "source": [
    "print(Y_train[(Y_train=='0')].count())\n",
    "print(len(Y_train))\n",
    "print(Y_val[(Y_val=='0')].count())\n",
    "print(len(Y_val))\n",
    "print(Y_test[(Y_test=='0')].count())\n",
    "len(Y_test)"
   ]
  },
  {
   "cell_type": "code",
   "execution_count": 5,
   "id": "f5bda00a",
   "metadata": {},
   "outputs": [],
   "source": [
    "X_tr=X_tr.replace(0.0, np.nan)\n",
    "perc = 80.0\n",
    "min_count =  int(((100-perc)/100)*X_tr.shape[0] + 1)\n",
    "Xtr_filtered = X_tr.dropna( axis=1, \n",
    "                thresh=min_count)"
   ]
  },
  {
   "cell_type": "code",
   "execution_count": 6,
   "id": "159a8691",
   "metadata": {},
   "outputs": [],
   "source": [
    "filtered_features= X_val.columns.intersection(Xtr_filtered.columns)\n",
    "Xval_filtered=X_val[filtered_features]"
   ]
  },
  {
   "cell_type": "code",
   "execution_count": 7,
   "id": "9dedbef6",
   "metadata": {},
   "outputs": [],
   "source": [
    "Xtr_filtered=Xtr_filtered.fillna(0)\n",
    "Xval_filtered=Xval_filtered.fillna(0)"
   ]
  },
  {
   "cell_type": "code",
   "execution_count": null,
   "id": "5be72b61",
   "metadata": {},
   "outputs": [],
   "source": [
    "Xtr_filtered.iloc[:,Xtr_filtered.columns.str.startswith('exo_circ')]"
   ]
  },
  {
   "cell_type": "code",
   "execution_count": null,
   "id": "75b29d2c",
   "metadata": {},
   "outputs": [],
   "source": [
    "fig, ax = plt.subplots(figsize =(10, 7))\n",
    "ax.hist(Xtr_filtered['exo_circ_29616'], bins=50)"
   ]
  },
  {
   "cell_type": "code",
   "execution_count": 8,
   "id": "33a76545",
   "metadata": {},
   "outputs": [],
   "source": [
    "\n",
    "from sklearn.preprocessing import Normalizer\n",
    "transformer = Normalizer()\n",
    "Xtr_filtered_S=transformer.fit_transform(Xtr_filtered)\n",
    "Xval_filtered_S=transformer.transform(Xval_filtered)\n",
    "\n"
   ]
  },
  {
   "cell_type": "code",
   "execution_count": null,
   "id": "a27af412",
   "metadata": {},
   "outputs": [],
   "source": [
    "forplotting=pd.DataFrame(Xtr_filtered_S)\n",
    "forplotting.columns=np.array(Xtr_filtered.columns)\n",
    "forplotting"
   ]
  },
  {
   "cell_type": "code",
   "execution_count": null,
   "id": "fb097374",
   "metadata": {},
   "outputs": [],
   "source": [
    "fig, ax = plt.subplots(figsize =(10, 7))\n",
    "ax.hist(forplotting['exo_circ_29616'], bins=50)"
   ]
  },
  {
   "cell_type": "code",
   "execution_count": null,
   "id": "7107a5e9",
   "metadata": {},
   "outputs": [],
   "source": [
    "\n",
    "corretn_matrx = forplotting.corr()\n",
    "# Print the correlation matrix.\n",
    "print(corretn_matrx)\n",
    "# Pass the above correlation matrix and annot = True as the arguments to the heatmap() function \n",
    "# to visualize the above correlation matrix\n"
   ]
  },
  {
   "cell_type": "code",
   "execution_count": null,
   "id": "18a8e0f8",
   "metadata": {},
   "outputs": [],
   "source": [
    "\n",
    "[(i, j) for i,j in zip(*np.where(np.abs(corretn_matrx.values) >0.99)) if i!=j]\n"
   ]
  },
  {
   "cell_type": "code",
   "execution_count": 9,
   "id": "969c0ae4",
   "metadata": {},
   "outputs": [
    {
     "name": "stdout",
     "output_type": "stream",
     "text": [
      "Fitting 5 folds for each of 104 candidates, totalling 520 fits\n"
     ]
    },
    {
     "name": "stderr",
     "output_type": "stream",
     "text": [
      "C:\\Users\\e0998126.NUSSTU\\Anaconda3\\lib\\site-packages\\sklearn\\utils\\validation.py:993: DataConversionWarning: A column-vector y was passed when a 1d array was expected. Please change the shape of y to (n_samples, ), for example using ravel().\n",
      "  y = column_or_1d(y, warn=True)\n"
     ]
    },
    {
     "data": {
      "text/plain": [
       "{'C': 10.0, 'gamma': 'scale', 'kernel': 'poly', 'random_state': 1303}"
      ]
     },
     "metadata": {},
     "output_type": "display_data"
    },
    {
     "name": "stdout",
     "output_type": "stream",
     "text": [
      "              precision    recall  f1-score   support\n",
      "\n",
      "           0       0.93      0.68      0.79        19\n",
      "           1       0.74      0.94      0.83        18\n",
      "\n",
      "    accuracy                           0.81        37\n",
      "   macro avg       0.83      0.81      0.81        37\n",
      "weighted avg       0.84      0.81      0.81        37\n",
      "\n"
     ]
    }
   ],
   "source": [
    "param_grid_SVC = {'C': np.logspace(-2, 10, 13), \n",
    "              'random_state':[1303],\n",
    "              'kernel':['linear','poly','rbf','sigmoid'],\n",
    "              'gamma':['scale','auto']}\n",
    "\n",
    "gridcv = GridSearchCV(SVC(), param_grid_SVC, refit=True, cv=5, verbose=1, n_jobs=-1)\n",
    "\n",
    "\n",
    "# fit the model for grid search \n",
    "gridcv.fit(Xtr_filtered_S, Y_tr) \n",
    " \n",
    "# display best parameters after tuning \n",
    "display(gridcv.best_params_) \n",
    "gridcv_pred = gridcv.predict(Xval_filtered_S) \n",
    "   \n",
    "# classification report \n",
    "print(classification_report(Y_val, gridcv_pred))"
   ]
  },
  {
   "cell_type": "code",
   "execution_count": 14,
   "id": "36d988c5",
   "metadata": {},
   "outputs": [
    {
     "name": "stderr",
     "output_type": "stream",
     "text": [
      "C:\\Users\\e0998126.NUSSTU\\Anaconda3\\lib\\site-packages\\sklearn\\utils\\validation.py:993: DataConversionWarning: A column-vector y was passed when a 1d array was expected. Please change the shape of y to (n_samples, ), for example using ravel().\n",
      "  y = column_or_1d(y, warn=True)\n"
     ]
    },
    {
     "data": {
      "text/plain": [
       "0.8108108108108109"
      ]
     },
     "metadata": {},
     "output_type": "display_data"
    },
    {
     "data": {
      "image/png": "[encoded data removed]",
      "text/plain": [
       "<Figure size 432x288 with 1 Axes>"
      ]
     },
     "metadata": {
      "needs_background": "light"
     },
     "output_type": "display_data"
    }
   ],
   "source": [
    "clfSVC = SVC(\n",
    "    C=10, \n",
    "    kernel='poly', \n",
    "    random_state = 1303,\n",
    "    gamma = 'scale'\n",
    ")\n",
    "\n",
    "model=clfSVC.fit(Xtr_filtered_S, Y_tr)\n",
    "y_pred_svc = model.predict(Xval_filtered_S)\n",
    "accuracy = accuracy_score(Y_val, y_pred_svc)\n",
    "display(accuracy)\n",
    "RocCurveDisplay.from_estimator(model,Xval_filtered_S,Y_val)\n",
    "plt.show()"
   ]
  },
  {
   "cell_type": "code",
   "execution_count": 15,
   "id": "502947e0",
   "metadata": {},
   "outputs": [],
   "source": [
    "Y_tr=np.array(Y_tr)\n",
    "Y_tr=Y_tr.flatten()\n",
    "r = permutation_importance(clfSVC.fit(Xtr_filtered_S, Y_tr),Xval_filtered_S, Y_val, n_repeats=3, random_state=1303)\n"
   ]
  },
  {
   "cell_type": "code",
   "execution_count": null,
   "id": "5e94763d",
   "metadata": {},
   "outputs": [],
   "source": []
  },
  {
   "cell_type": "code",
   "execution_count": 16,
   "id": "82b025c0",
   "metadata": {},
   "outputs": [
    {
     "data": {
      "text/html": [
       "<div>\n",
       "<style scoped>\n",
       "    .dataframe tbody tr th:only-of-type {\n",
       "        vertical-align: middle;\n",
       "    }\n",
       "\n",
       "    .dataframe tbody tr th {\n",
       "        vertical-align: top;\n",
       "    }\n",
       "\n",
       "    .dataframe thead th {\n",
       "        text-align: right;\n",
       "    }\n",
       "</style>\n",
       "<table border=\"1\" class=\"dataframe\">\n",
       "  <thead>\n",
       "    <tr style=\"text-align: right;\">\n",
       "      <th></th>\n",
       "      <th>RNA</th>\n",
       "      <th>mean_imp</th>\n",
       "      <th>mean_std</th>\n",
       "    </tr>\n",
       "  </thead>\n",
       "  <tbody>\n",
       "    <tr>\n",
       "      <th>0</th>\n",
       "      <td>MTRNR2L8</td>\n",
       "      <td>0.162162</td>\n",
       "      <td>0.079565</td>\n",
       "    </tr>\n",
       "    <tr>\n",
       "      <th>1</th>\n",
       "      <td>FTL</td>\n",
       "      <td>0.09009</td>\n",
       "      <td>0.033709</td>\n",
       "    </tr>\n",
       "    <tr>\n",
       "      <th>2</th>\n",
       "      <td>exo_circ_22106</td>\n",
       "      <td>0.036036</td>\n",
       "      <td>0.033709</td>\n",
       "    </tr>\n",
       "    <tr>\n",
       "      <th>3</th>\n",
       "      <td>PPBP</td>\n",
       "      <td>0.027027</td>\n",
       "      <td>0.022067</td>\n",
       "    </tr>\n",
       "    <tr>\n",
       "      <th>4</th>\n",
       "      <td>TMSB4X</td>\n",
       "      <td>0.018018</td>\n",
       "      <td>0.025481</td>\n",
       "    </tr>\n",
       "    <tr>\n",
       "      <th>5</th>\n",
       "      <td>S100A11</td>\n",
       "      <td>0.018018</td>\n",
       "      <td>0.050963</td>\n",
       "    </tr>\n",
       "    <tr>\n",
       "      <th>6</th>\n",
       "      <td>S100A9</td>\n",
       "      <td>0.009009</td>\n",
       "      <td>0.012741</td>\n",
       "    </tr>\n",
       "    <tr>\n",
       "      <th>7</th>\n",
       "      <td>ACTB</td>\n",
       "      <td>0.009009</td>\n",
       "      <td>0.012741</td>\n",
       "    </tr>\n",
       "    <tr>\n",
       "      <th>8</th>\n",
       "      <td>exo_circ_79050</td>\n",
       "      <td>0.0</td>\n",
       "      <td>0.022067</td>\n",
       "    </tr>\n",
       "  </tbody>\n",
       "</table>\n",
       "</div>"
      ],
      "text/plain": [
       "              RNA  mean_imp  mean_std\n",
       "0        MTRNR2L8  0.162162  0.079565\n",
       "1             FTL   0.09009  0.033709\n",
       "2  exo_circ_22106  0.036036  0.033709\n",
       "3            PPBP  0.027027  0.022067\n",
       "4          TMSB4X  0.018018  0.025481\n",
       "5         S100A11  0.018018  0.050963\n",
       "6          S100A9  0.009009  0.012741\n",
       "7            ACTB  0.009009  0.012741\n",
       "8  exo_circ_79050       0.0  0.022067"
      ]
     },
     "execution_count": 16,
     "metadata": {},
     "output_type": "execute_result"
    }
   ],
   "source": [
    "features_SVM = pd.DataFrame(columns = ['RNA', 'mean_imp', 'mean_std'])\n",
    "\n",
    "\n",
    "for i in r.importances_mean.argsort()[::-1]:\n",
    "    if r.importances_mean[i] > 0:\n",
    "        features_SVM = pd.concat([features_SVM, pd.DataFrame(\n",
    "            [{'RNA': Xtr_filtered.columns[i], \n",
    "              'mean_imp': r.importances_mean[i], \n",
    "              'mean_std':r.importances_std[i]}])],ignore_index=True)     \n",
    "features_SVM"
   ]
  },
  {
   "cell_type": "code",
   "execution_count": 17,
   "id": "d2fa1ed5",
   "metadata": {
    "scrolled": true
   },
   "outputs": [
    {
     "name": "stderr",
     "output_type": "stream",
     "text": [
      "C:\\Users\\e0998126.NUSSTU\\AppData\\Local\\Temp\\ipykernel_22464\\3963758626.py:2: FutureWarning: this method is deprecated in favour of `Styler.hide(axis='index')`\n",
      "  x.style.hide_index()\n"
     ]
    },
    {
     "data": {
      "text/plain": [
       "3.700743415417188e-17"
      ]
     },
     "execution_count": 17,
     "metadata": {},
     "output_type": "execute_result"
    }
   ],
   "source": [
    "x=pd.DataFrame(features_SVM['RNA'])\n",
    "x.style.hide_index()\n",
    "features_SVM['mean_imp'][8]"
   ]
  },
  {
   "cell_type": "code",
   "execution_count": 18,
   "id": "77617cab",
   "metadata": {},
   "outputs": [
    {
     "name": "stderr",
     "output_type": "stream",
     "text": [
      "C:\\Users\\e0998126.NUSSTU\\Anaconda3\\lib\\site-packages\\seaborn\\_decorators.py:36: FutureWarning: Pass the following variables as keyword args: x, y. From version 0.12, the only valid positional argument will be `data`, and passing other arguments without an explicit keyword will result in an error or misinterpretation.\n",
      "  warnings.warn(\n"
     ]
    },
    {
     "name": "stdout",
     "output_type": "stream",
     "text": [
      "(array([8], dtype=int64),)\n"
     ]
    },
    {
     "data": {
      "image/png": "[encoded data removed]",
      "text/plain": [
       "<Figure size 432x288 with 1 Axes>"
      ]
     },
     "metadata": {
      "needs_background": "light"
     },
     "output_type": "display_data"
    }
   ],
   "source": [
    "def optimal_features (features):\n",
    "    Xtr_SVM=Xtr_filtered.filter(features)\n",
    "    Xval_SVM=Xval_filtered.filter(features)\n",
    "    XtrSVM_S = transformer.fit_transform(Xtr_SVM)\n",
    "    XvalSVM_S = transformer.fit_transform(Xval_SVM)\n",
    "    model_SVM=clfSVC.fit(XtrSVM_S, Y_tr)\n",
    "    Ypred_SVM = model_SVM.predict(XvalSVM_S)\n",
    "    return(accuracy_score(Y_val, Ypred_SVM)) \n",
    "\n",
    "accuracy =[]\n",
    "for i in range(1, 10) :\n",
    "    accuracy.append(optimal_features(features_SVM['RNA'][:i]))\n",
    "   \n",
    "    \n",
    "sns.lineplot(range(1,10),accuracy,)\n",
    "plt.xlabel('number of features selected')\n",
    "plt.ylabel('accuracy')    \n",
    "\n",
    "print(np.where(accuracy==np.max(accuracy)))"
   ]
  },
  {
   "cell_type": "code",
   "execution_count": 19,
   "id": "c1ee98a2",
   "metadata": {},
   "outputs": [
    {
     "name": "stdout",
     "output_type": "stream",
     "text": [
      "0.8918918918918919\n"
     ]
    },
    {
     "data": {
      "image/png": "[encoded data removed]",
      "text/plain": [
       "<Figure size 432x288 with 1 Axes>"
      ]
     },
     "metadata": {
      "needs_background": "light"
     },
     "output_type": "display_data"
    }
   ],
   "source": [
    "Xtr_SVM=Xtr_filtered.filter(features_SVM['RNA'][:9])\n",
    "Xval_SVM=Xval_filtered.filter(features_SVM['RNA'][:9])\n",
    "XtrSVM_S = transformer.fit_transform(Xtr_SVM)\n",
    "XvalSVM_S = transformer.fit_transform(Xval_SVM)\n",
    "model_SVM=clfSVC.fit(XtrSVM_S, Y_tr)\n",
    "Ypred_SVM = model_SVM.predict(XvalSVM_S)\n",
    "print(accuracy_score(Y_val, Ypred_SVM))\n",
    "RocCurveDisplay.from_estimator(model_SVM,XvalSVM_S,Y_val)\n",
    "plt.show()"
   ]
  },
  {
   "cell_type": "code",
   "execution_count": 20,
   "id": "4aef13c0",
   "metadata": {},
   "outputs": [
    {
     "ename": "NameError",
     "evalue": "name 'printPerformance' is not defined",
     "output_type": "error",
     "traceback": [
      "\u001b[1;31m---------------------------------------------------------------------------\u001b[0m",
      "\u001b[1;31mNameError\u001b[0m                                 Traceback (most recent call last)",
      "Input \u001b[1;32mIn [20]\u001b[0m, in \u001b[0;36m<cell line: 2>\u001b[1;34m()\u001b[0m\n\u001b[0;32m      1\u001b[0m cmat \u001b[38;5;241m=\u001b[39m confusion_matrix(Y_val, Ypred_SVM)\n\u001b[1;32m----> 2\u001b[0m \u001b[43mprintPerformance\u001b[49m(cmat)\n",
      "\u001b[1;31mNameError\u001b[0m: name 'printPerformance' is not defined"
     ]
    }
   ],
   "source": [
    "cmat = confusion_matrix(Y_val, Ypred_SVM)\n",
    "printPerformance(cmat)"
   ]
  },
  {
   "cell_type": "code",
   "execution_count": null,
   "id": "474a3902",
   "metadata": {},
   "outputs": [],
   "source": []
  },
  {
   "cell_type": "code",
   "execution_count": null,
   "id": "01cea051",
   "metadata": {},
   "outputs": [],
   "source": [
    "n_estimators = [ 200, 1000, 7000]\n",
    "max_depth = [5, 8]\n",
    "min_samples_split = [2, 5, 15]\n",
    "min_samples_leaf = [1, 2, 5] \n",
    "class_weight=['balanced_subsample']\n",
    "parameters = dict(n_estimators = n_estimators, max_depth = max_depth,min_samples_split = min_samples_split, \n",
    "             min_samples_leaf = min_samples_leaf,class_weight=class_weight)\n",
    "\n",
    "gridF = GridSearchCV(RandomForestClassifier(random_state = 1303), parameters, cv = 5, verbose = 1, n_jobs = -1)\n",
    "bestF = gridF.fit(Xtr_filtered_S, Y_tr)\n",
    "display(bestF.best_params_) \n",
    "bestF_pred = bestF.predict(Xval_filtered_S)\n",
    "\n",
    "print(classification_report(Y_val, bestF_pred))\n",
    "print('accuracy:', accuracy_score(Y_val, bestF_pred))"
   ]
  },
  {
   "cell_type": "code",
   "execution_count": null,
   "id": "3c719473",
   "metadata": {},
   "outputs": [],
   "source": [
    "bestF = RandomForestClassifier(\n",
    "    n_estimators=1000, \n",
    "    criterion='gini', \n",
    "    oob_score=True, \n",
    "    max_depth=5,\n",
    "    min_samples_leaf=2,\n",
    "    min_samples_split= 2,\n",
    "    class_weight='balanced_subsample',\n",
    "    random_state=1303)\n",
    "y_pred = bestF.fit(Xtr_filtered_S, Y_tr).predict(Xval_filtered_S)\n",
    "print(classification_report(Y_val, y_pred))\n",
    "print('accuracy:', accuracy_score(Y_val, y_pred))\n",
    "RocCurveDisplay.from_estimator(bestF,Xval_filtered_S,Y_val)\n",
    "plt.show()"
   ]
  },
  {
   "cell_type": "code",
   "execution_count": null,
   "id": "407ae7b6",
   "metadata": {},
   "outputs": [],
   "source": [
    "s = permutation_importance(bestF.fit(Xtr_filtered_S, Y_tr),Xval_filtered_S, Y_val, n_repeats=3, random_state=1303)"
   ]
  },
  {
   "cell_type": "code",
   "execution_count": null,
   "id": "29a807da",
   "metadata": {},
   "outputs": [],
   "source": [
    "features_RF = pd.DataFrame(columns = ['RNA', 'mean_imp', 'mean_std'])\n",
    "\n",
    "\n",
    "for i in s.importances_mean.argsort()[::-1]:\n",
    "    if s.importances_mean[i] > 0:\n",
    "        features_RF = pd.concat([features_RF, pd.DataFrame(\n",
    "            [{'RNA': Xtr_filtered.columns[i], \n",
    "              'mean_imp': s.importances_mean[i], \n",
    "              'mean_std':s.importances_std[i]}])],ignore_index=True)     "
   ]
  },
  {
   "cell_type": "code",
   "execution_count": null,
   "id": "ae46eb22",
   "metadata": {},
   "outputs": [],
   "source": [
    "features_RF\n"
   ]
  },
  {
   "cell_type": "code",
   "execution_count": null,
   "id": "79fee605",
   "metadata": {},
   "outputs": [],
   "source": [
    "def optimal_features_RF (features_RF):\n",
    "    Xtr_RF=Xtr_filtered.filter(features_RF)\n",
    "    Xval_RF=Xval_filtered.filter(features_RF)\n",
    "    XtrRF_S = transformer.fit_transform(Xtr_RF)\n",
    "    XvalRF_S = transformer.fit_transform(Xval_RF)\n",
    "    model_RF=bestF.fit(XtrRF_S, Y_tr)\n",
    "    Ypred_RF = model_RF.predict(XvalRF_S)\n",
    "    return(accuracy_score(Y_val, Ypred_RF)) \n",
    "    "
   ]
  },
  {
   "cell_type": "code",
   "execution_count": null,
   "id": "28643f49",
   "metadata": {},
   "outputs": [],
   "source": [
    "accuracy =[]\n",
    "for i in range(1, len(features_RF['RNA'])) :\n",
    "    accuracy.append(optimal_features_RF(features_RF['RNA'][:i]))\n",
    "    \n",
    "sns.lineplot(range(1,len(features_RF['RNA'])),accuracy,)\n",
    "plt.xlabel('number of features selected')\n",
    "plt.ylabel('accuracy')"
   ]
  },
  {
   "cell_type": "code",
   "execution_count": null,
   "id": "2b706eb4",
   "metadata": {},
   "outputs": [],
   "source": [
    "np.where(accuracy==np.max(accuracy))"
   ]
  },
  {
   "cell_type": "code",
   "execution_count": null,
   "id": "890bec3d",
   "metadata": {},
   "outputs": [],
   "source": [
    "Xtr_RF=Xtr_filtered.filter(features_RF['RNA'][:13])\n",
    "Xval_RF=Xval_filtered.filter(features_RF['RNA'][:13])\n",
    "XtrRF_S = transformer.fit_transform(Xtr_RF)\n",
    "XvalRF_S = transformer.fit_transform(Xval_RF)\n",
    "model_RF=bestF.fit(XtrRF_S, Y_tr)\n",
    "Ypred_RF = model_RF.predict(XvalRF_S)\n",
    "print(accuracy_score(Y_val, Ypred_RF))\n",
    "RocCurveDisplay.from_estimator(model_RF,XvalRF_S,Y_val)\n",
    "plt.show()"
   ]
  },
  {
   "cell_type": "code",
   "execution_count": null,
   "id": "1e2a8832",
   "metadata": {},
   "outputs": [],
   "source": [
    "features_RF[features_RF['RNA'].isin(features_SVM['RNA'])]\n"
   ]
  },
  {
   "cell_type": "code",
   "execution_count": null,
   "id": "f8109d23",
   "metadata": {},
   "outputs": [],
   "source": [
    "Xtr_filtered.shape"
   ]
  },
  {
   "cell_type": "code",
   "execution_count": null,
   "id": "200d6180",
   "metadata": {},
   "outputs": [],
   "source": [
    "rfecv = RFECV(\n",
    "    estimator=bestF,\n",
    "    step = 150,\n",
    "    cv = 3,\n",
    "    scoring = \"accuracy\",\n",
    "    min_features_to_select=1,)\n",
    "   \n",
    "%time rfecv.fit(Xtr_filtered_S, Y_tr)\n",
    "#display('optimal n of features: %d'% rfecv.n_features_)\n",
    "display(rfecv)"
   ]
  },
  {
   "cell_type": "code",
   "execution_count": null,
   "id": "5db1cb19",
   "metadata": {},
   "outputs": [],
   "source": [
    "len(rfecv.grid_scores_)"
   ]
  },
  {
   "cell_type": "code",
   "execution_count": null,
   "id": "4a2de613",
   "metadata": {},
   "outputs": [],
   "source": [
    "plt.xlabel(\"number of features selected\")\n",
    "plt.ylabel(\"accuracy\")\n",
    "sns.lineplot(range(1,102), rfecv.grid_scores_,)"
   ]
  },
  {
   "cell_type": "code",
   "execution_count": null,
   "id": "f1996f96",
   "metadata": {},
   "outputs": [],
   "source": []
  },
  {
   "cell_type": "code",
   "execution_count": null,
   "id": "2e17017b",
   "metadata": {},
   "outputs": [],
   "source": [
    "optim_features_RF = rfecv.support_\n",
    "feature_indeces = []\n",
    "for i, feat in enumerate(optim_features_RF):\n",
    "    if feat == True:\n",
    "        feature_indeces.append(i)\n",
    "        \n",
    "Xtr_filtered.iloc[:,feature_indeces ]"
   ]
  },
  {
   "cell_type": "code",
   "execution_count": null,
   "id": "554b62ff",
   "metadata": {},
   "outputs": [],
   "source": [
    "Xtr_RF=Xtr_filtered.filter(Xtr_filtered.iloc[:,feature_indeces])\n",
    "Xval_RF=Xval_filtered.filter(Xtr_filtered.iloc[:,feature_indeces])\n",
    "XtrRF_S = transformer.fit_transform(Xtr_RF)\n",
    "XvalRF_S = transformer.fit_transform(Xval_RF)\n",
    "model_RF=bestF.fit(XtrRF_S, Y_tr)\n",
    "Ypred_RF = model_RF.predict(XvalRF_S)\n",
    "print(accuracy_score(Y_val, Ypred_RF))\n",
    "RocCurveDisplay.from_estimator(model_RF,XvalRF_S,Y_val)\n",
    "plt.show()"
   ]
  },
  {
   "cell_type": "code",
   "execution_count": null,
   "id": "2078deb1",
   "metadata": {},
   "outputs": [],
   "source": [
    "from sklearn.neural_network import MLPClassifier \n",
    "def modelPerformance(confMat):\n",
    "    TN = confMat[0, 0]\n",
    "    TP = confMat[1, 1]\n",
    "    FP = confMat[0, 1]\n",
    "    FN = confMat[1, 0]\n",
    "    prec = TP / (TP + FP)\n",
    "    rec = TP / (TP + FN)\n",
    "    spec = TN / (TN + FP)\n",
    "    fpr = FP / (TN + FP)\n",
    "    f1 = 2 * (prec * rec) / (prec + rec)\n",
    "    acc = (TP + TN) / (TP + FP + TN + FN)\n",
    "    return (acc, prec, rec, spec, fpr, f1)\n",
    "\n",
    "def printPerformance(confMat):\n",
    "    acc, prec, rec, spec, fpr, f1 = modelPerformance(confMat)\n",
    "    print(\"Accuracy = \" \"%.4f\" % acc)\n",
    "    print(\"Precision = \" \"%.4f\" % prec)\n",
    "    print(\"Recall = \" \"%.4f\" % rec)\n",
    "    print(\"Specificity = \" \"%.4f\" % spec)\n",
    "    print(\"False positive rate = \" \"%.4f\" % fpr)\n",
    "    print(\"F1-score = \" \"%.4f\" % f1)\n",
    "    np.set_printoptions(precision=2)\n",
    "    print(\"Confusion matrix (%):\")\n",
    "    print(confMat/np.sum(confMat)*100)"
   ]
  },
  {
   "cell_type": "code",
   "execution_count": null,
   "id": "1b2109c8",
   "metadata": {},
   "outputs": [],
   "source": [
    "parameters = {'solver': ['lbfgs','adam','sgd'], 'max_iter': [200], 'alpha': 10.0 ** -np.arange(1, 10), 'hidden_layer_sizes':[(100,200)] ,'random_state':[1303], 'activation':['tanh','relu','logistic']}\n",
    "mlp = GridSearchCV(MLPClassifier(), parameters, n_jobs=-1)\n",
    "mlp.fit(Xtr_filtered_S, Y_tr)\n",
    "\n",
    "y_predmlp = mlp.predict(Xval_filtered_S)\n",
    "cmat = confusion_matrix(Y_val, y_predmlp)\n",
    "printPerformance(cmat)\n",
    "print(mlp.best_params_)"
   ]
  },
  {
   "cell_type": "code",
   "execution_count": null,
   "id": "c1ffa148",
   "metadata": {},
   "outputs": [],
   "source": [
    "mlp = MLPClassifier(hidden_layer_sizes = (100,200,200,100), \n",
    "                   activation = 'relu', \n",
    "                   solver = 'lbfgs', \n",
    "                   learning_rate_init = 0.005,\n",
    "                   learning_rate = 'constant',\n",
    "                   max_iter = 200,\n",
    "                   verbose = False,\n",
    "                   random_state = 1303,\n",
    "                   alpha = 1e-06)\n",
    "mlp.fit(Xtr_filtered_S, Y_tr)\n",
    "y_pred=mlp.predict(Xval_filtered_S)\n",
    "cmat = confusion_matrix(Y_val, y_pred)\n",
    "printPerformance(cmat)\n",
    "print(accuracy_score(Y_val, y_pred))\n",
    "RocCurveDisplay.from_estimator(mlp.fit(Xtr_filtered_S, Y_tr),Xval_filtered_S,Y_val)\n",
    "plt.show()"
   ]
  },
  {
   "cell_type": "code",
   "execution_count": null,
   "id": "1c47a9a5",
   "metadata": {},
   "outputs": [],
   "source": [
    "t = permutation_importance(mlp.fit(Xtr_filtered_S, Y_tr), Xval_filtered_S, Y_val, n_repeats=3, random_state=1303)\n"
   ]
  },
  {
   "cell_type": "code",
   "execution_count": null,
   "id": "7ff70a3d",
   "metadata": {},
   "outputs": [],
   "source": [
    "features_mlp = pd.DataFrame(columns = ['RNA', 'mean_imp', 'mean_std'])\n",
    "\n",
    "\n",
    "\n",
    "for i in t.importances_mean.argsort()[::-1]:\n",
    "    if t.importances_mean[i]> 0:\n",
    "        features_mlp = pd.concat([features_mlp, pd.DataFrame(\n",
    "            [{'RNA': Xtr_filtered.columns[i], \n",
    "              'mean_imp': t.importances_mean[i], \n",
    "              'mean_std':t.importances_std[i]}])],ignore_index=True)     \n",
    "        \n",
    "\n",
    "\n",
    "features_mlp"
   ]
  },
  {
   "cell_type": "code",
   "execution_count": null,
   "id": "ef7522d0",
   "metadata": {},
   "outputs": [],
   "source": [
    "pd.DataFrame(features_mlp['mean_std'].iloc[:27]).style.hide(axis='index')"
   ]
  },
  {
   "cell_type": "code",
   "execution_count": null,
   "id": "9a395097",
   "metadata": {},
   "outputs": [],
   "source": [
    "def optimal_features_mlp (features_mlp):\n",
    "    Xtr_mlp=Xtr_filtered.filter(features_mlp)\n",
    "    Xval_mlp=Xval_filtered.filter(features_mlp)\n",
    "    Xtrmlp_S = transformer.fit_transform(Xtr_mlp)\n",
    "    Xvalmlp_S = transformer.fit_transform(Xval_mlp)\n",
    "    model_mlp=mlp.fit(Xtrmlp_S, Y_tr)\n",
    "    Ypred_mlp = model_mlp.predict(Xvalmlp_S)\n",
    "    return(accuracy_score(Y_val, Ypred_mlp)) \n",
    "\n",
    "accuracy =[]\n",
    "for i in range(1, len(features_mlp['RNA'])) :\n",
    "    accuracy.append(optimal_features_mlp(features_mlp['RNA'][:i]))\n",
    "    \n",
    "sns.lineplot(range(1,len(features_mlp['RNA'])),accuracy,)\n",
    "plt.xlabel('number of features selected')\n",
    "plt.ylabel('accuracy')\n",
    "np.where(accuracy==np.max(accuracy))"
   ]
  },
  {
   "cell_type": "code",
   "execution_count": null,
   "id": "91718023",
   "metadata": {},
   "outputs": [],
   "source": [
    "sns.lineplot(range(15,len(features_mlp['RNA'])),accuracy,)\n",
    "plt.xlabel('number of features selected')\n",
    "plt.ylabel('accuracy')"
   ]
  },
  {
   "cell_type": "code",
   "execution_count": null,
   "id": "32313f89",
   "metadata": {},
   "outputs": [],
   "source": [
    "np.where(accuracy==np.max(accuracy))"
   ]
  },
  {
   "cell_type": "code",
   "execution_count": null,
   "id": "d89f57ed",
   "metadata": {},
   "outputs": [],
   "source": []
  },
  {
   "cell_type": "code",
   "execution_count": null,
   "id": "4dd91f3b",
   "metadata": {},
   "outputs": [],
   "source": [
    "Xtr_mlp=Xtr_filtered.filter(features_mlp['RNA'][:99])\n",
    "Xval_mlp=Xval_filtered.filter(features_mlp['RNA'][:99])\n",
    "Xtrmlp_S = transformer.fit_transform(Xtr_mlp)\n",
    "Xvalmlp_S = transformer.fit_transform(Xval_mlp)\n",
    "model_mlp=mlp.fit(Xtrmlp_S, Y_tr)\n",
    "Ypred_mlp = model_mlp.predict(Xvalmlp_S)\n",
    "print(accuracy_score(Y_val, Ypred_mlp))\n",
    "RocCurveDisplay.from_estimator(model_mlp,Xvalmlp_S,Y_val)\n",
    "plt.show()"
   ]
  },
  {
   "cell_type": "code",
   "execution_count": null,
   "id": "de5e43af",
   "metadata": {},
   "outputs": [],
   "source": [
    "features_mlp[features_mlp['RNA'].isin(features_SVM['RNA'])]\n"
   ]
  },
  {
   "cell_type": "code",
   "execution_count": null,
   "id": "eeab1ef0",
   "metadata": {},
   "outputs": [],
   "source": [
    "df1=pd.DataFrame(features_RF['RNA'][:282])\n",
    "df2=pd.DataFrame(Xtr_filtered.iloc[:,feature_indeces].columns)\n",
    "df2.columns = ['RNA']\n",
    "\n",
    "#pd.merge(df1,df2, how='inner',on= ['RNA'])"
   ]
  },
  {
   "cell_type": "code",
   "execution_count": null,
   "id": "e29ea247",
   "metadata": {},
   "outputs": [],
   "source": [
    "df3 = pd.DataFrame(features_mlp['RNA'][:27])\n",
    "df4 = pd.DataFrame(features_SVM['RNA'][:486])"
   ]
  },
  {
   "cell_type": "code",
   "execution_count": null,
   "id": "5e151cce",
   "metadata": {},
   "outputs": [],
   "source": [
    "np.array(features_mlp['RNA'][:27])"
   ]
  },
  {
   "cell_type": "code",
   "execution_count": null,
   "id": "c3f7bebb",
   "metadata": {},
   "outputs": [],
   "source": [
    "list(set(df2.RNA) & set(df3.RNA) & set(df4.RNA))\n"
   ]
  }
 ],
 "metadata": {
  "kernelspec": {
   "display_name": "Python 3 (ipykernel)",
   "language": "python",
   "name": "python3"
  },
  "language_info": {
   "codemirror_mode": {
    "name": "ipython",
    "version": 3
   },
   "file_extension": ".py",
   "mimetype": "text/x-python",
   "name": "python",
   "nbconvert_exporter": "python",
   "pygments_lexer": "ipython3",
   "version": "3.9.12"
  }
 },
 "nbformat": 4,
 "nbformat_minor": 5
}
