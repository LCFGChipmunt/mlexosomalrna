{
 "cells": [
  {
   "cell_type": "code",
   "execution_count": 34,
   "id": "93f62545",
   "metadata": {},
   "outputs": [],
   "source": [
    "import numpy as np\n",
    "import pandas as pd\n",
    "import matplotlib.pyplot as plt\n",
    "import seaborn as sns\n",
    "\n",
    "import sklearn.metrics as mx\n",
    "from sklearn.decomposition import PCA, SparsePCA, KernelPCA\n",
    "from sklearn.model_selection import StratifiedKFold, GridSearchCV, train_test_split,KFold, cross_val_score, cross_validate\n",
    "from sklearn.ensemble import RandomForestClassifier, RandomForestRegressor, GradientBoostingClassifier\n",
    "from sklearn.metrics import roc_curve, plot_roc_curve, confusion_matrix, roc_auc_score, f1_score, accuracy_score, balanced_accuracy_score, classification_report,RocCurveDisplay,auc\n",
    "from sklearn.svm import SVC, LinearSVC, NuSVC, SVR, NuSVR, LinearSVR\n",
    "from sklearn.feature_selection import RFECV\n",
    "from sklearn.preprocessing import StandardScaler\n",
    "from sklearn.neural_network import MLPClassifier \n",
    "from sklearn.cross_decomposition import PLSRegression\n",
    "from sklearn.model_selection import RepeatedKFold\n",
    "from sklearn import model_selection\n",
    "from sklearn.preprocessing import scale \n",
    "\n",
    "from numpy import mean, std\n",
    "\n",
    "from sklearn.cluster import DBSCAN, OPTICS\n",
    "from sklearn.neighbors import NearestNeighbors\n",
    "from sklearn import metrics\n",
    "from sklearn.inspection import permutation_importance\n"
   ]
  },
  {
   "cell_type": "code",
   "execution_count": 35,
   "id": "e7998437",
   "metadata": {},
   "outputs": [],
   "source": [
    "ALL=pd.read_table('healthytpm.txt', sep=',')\n",
    "TSV=pd.read_table('gdc_sample_sheet.2022-09-20.Tum.tsv')\n",
    "UID=pd.read_table('gdc_manifest_20220920_155722.txt')\n",
    "PrimaryTumour=TSV[TSV['Sample Type']=='Primary Tumor']\n",
    "PrimaryTumour=TSV[TSV['Sample Type']=='Primary Tumor']\n",
    "MatchedCon=TSV[TSV['Sample Type']=='Solid Tissue Normal'].sort_values(by='Case ID')\n",
    "MatchedCase=PrimaryTumour.loc[PrimaryTumour['Case ID'].isin(MatchedCon['Case ID'])].sort_values(by='Case ID')"
   ]
  },
  {
   "cell_type": "code",
   "execution_count": 36,
   "id": "5104507c",
   "metadata": {},
   "outputs": [],
   "source": [
    "H_ID=MatchedCon['File Name']\n",
    "T_ID=MatchedCase['File Name']\n",
    "con=ALL[H_ID]\n",
    "tumour=ALL[T_ID]\n",
    "con.columns=MatchedCon['Case ID']\n",
    "con.index=ALL['gene_id']\n",
    "tumour.columns=MatchedCase['Case ID']\n",
    "tumour.index=ALL['gene_id']"
   ]
  },
  {
   "cell_type": "code",
   "execution_count": 37,
   "id": "eb5153a9",
   "metadata": {},
   "outputs": [],
   "source": [
    "T=tumour.T\n",
    "T['Group']=1\n",
    "C=con.T\n",
    "C['Group']=0\n",
    "full_data=pd.concat([C, T], axis=0)\n"
   ]
  },
  {
   "cell_type": "code",
   "execution_count": 38,
   "id": "35d90861",
   "metadata": {},
   "outputs": [
    {
     "data": {
      "text/html": [
       "<div>\n",
       "<style scoped>\n",
       "    .dataframe tbody tr th:only-of-type {\n",
       "        vertical-align: middle;\n",
       "    }\n",
       "\n",
       "    .dataframe tbody tr th {\n",
       "        vertical-align: top;\n",
       "    }\n",
       "\n",
       "    .dataframe thead th {\n",
       "        text-align: right;\n",
       "    }\n",
       "</style>\n",
       "<table border=\"1\" class=\"dataframe\">\n",
       "  <thead>\n",
       "    <tr style=\"text-align: right;\">\n",
       "      <th>gene_id</th>\n",
       "      <th>ENSG00000000003.15</th>\n",
       "      <th>ENSG00000000005.6</th>\n",
       "      <th>ENSG00000000419.13</th>\n",
       "      <th>ENSG00000000457.14</th>\n",
       "      <th>ENSG00000000460.17</th>\n",
       "      <th>ENSG00000000938.13</th>\n",
       "      <th>ENSG00000000971.16</th>\n",
       "      <th>ENSG00000001036.14</th>\n",
       "      <th>ENSG00000001084.13</th>\n",
       "      <th>ENSG00000001167.14</th>\n",
       "      <th>...</th>\n",
       "      <th>ENSG00000288662.1</th>\n",
       "      <th>ENSG00000288663.1</th>\n",
       "      <th>ENSG00000288665.1</th>\n",
       "      <th>ENSG00000288667.1</th>\n",
       "      <th>ENSG00000288669.1</th>\n",
       "      <th>ENSG00000288670.1</th>\n",
       "      <th>ENSG00000288671.1</th>\n",
       "      <th>ENSG00000288674.1</th>\n",
       "      <th>ENSG00000288675.1</th>\n",
       "      <th>Group</th>\n",
       "    </tr>\n",
       "    <tr>\n",
       "      <th>Case ID</th>\n",
       "      <th></th>\n",
       "      <th></th>\n",
       "      <th></th>\n",
       "      <th></th>\n",
       "      <th></th>\n",
       "      <th></th>\n",
       "      <th></th>\n",
       "      <th></th>\n",
       "      <th></th>\n",
       "      <th></th>\n",
       "      <th></th>\n",
       "      <th></th>\n",
       "      <th></th>\n",
       "      <th></th>\n",
       "      <th></th>\n",
       "      <th></th>\n",
       "      <th></th>\n",
       "      <th></th>\n",
       "      <th></th>\n",
       "      <th></th>\n",
       "      <th></th>\n",
       "    </tr>\n",
       "  </thead>\n",
       "  <tbody>\n",
       "    <tr>\n",
       "      <th>TCGA-BC-A10Q</th>\n",
       "      <td>46.8388</td>\n",
       "      <td>0.0335</td>\n",
       "      <td>32.8076</td>\n",
       "      <td>2.9483</td>\n",
       "      <td>0.5707</td>\n",
       "      <td>4.2776</td>\n",
       "      <td>359.9613</td>\n",
       "      <td>27.1020</td>\n",
       "      <td>36.6102</td>\n",
       "      <td>5.6229</td>\n",
       "      <td>...</td>\n",
       "      <td>0.0</td>\n",
       "      <td>0.0433</td>\n",
       "      <td>0.0</td>\n",
       "      <td>0.0000</td>\n",
       "      <td>0.1486</td>\n",
       "      <td>6.1480</td>\n",
       "      <td>0.0</td>\n",
       "      <td>0.0154</td>\n",
       "      <td>0.0588</td>\n",
       "      <td>0</td>\n",
       "    </tr>\n",
       "    <tr>\n",
       "      <th>TCGA-BC-A10R</th>\n",
       "      <td>40.7921</td>\n",
       "      <td>0.6344</td>\n",
       "      <td>36.3942</td>\n",
       "      <td>4.0135</td>\n",
       "      <td>0.3422</td>\n",
       "      <td>8.2186</td>\n",
       "      <td>441.5682</td>\n",
       "      <td>29.9106</td>\n",
       "      <td>40.5900</td>\n",
       "      <td>5.3277</td>\n",
       "      <td>...</td>\n",
       "      <td>0.0</td>\n",
       "      <td>0.0149</td>\n",
       "      <td>0.0</td>\n",
       "      <td>0.0000</td>\n",
       "      <td>0.2028</td>\n",
       "      <td>6.9019</td>\n",
       "      <td>0.0</td>\n",
       "      <td>0.0221</td>\n",
       "      <td>0.1774</td>\n",
       "      <td>0</td>\n",
       "    </tr>\n",
       "    <tr>\n",
       "      <th>TCGA-BC-A10T</th>\n",
       "      <td>35.7484</td>\n",
       "      <td>0.0000</td>\n",
       "      <td>28.8150</td>\n",
       "      <td>3.7478</td>\n",
       "      <td>0.4119</td>\n",
       "      <td>2.9382</td>\n",
       "      <td>248.6657</td>\n",
       "      <td>23.0128</td>\n",
       "      <td>30.1717</td>\n",
       "      <td>5.5837</td>\n",
       "      <td>...</td>\n",
       "      <td>0.0</td>\n",
       "      <td>0.0088</td>\n",
       "      <td>0.0</td>\n",
       "      <td>1.6455</td>\n",
       "      <td>0.0755</td>\n",
       "      <td>7.8322</td>\n",
       "      <td>0.0</td>\n",
       "      <td>0.0209</td>\n",
       "      <td>0.0000</td>\n",
       "      <td>0</td>\n",
       "    </tr>\n",
       "    <tr>\n",
       "      <th>TCGA-BC-A10U</th>\n",
       "      <td>42.4380</td>\n",
       "      <td>0.0000</td>\n",
       "      <td>37.4583</td>\n",
       "      <td>3.4585</td>\n",
       "      <td>0.3170</td>\n",
       "      <td>3.4696</td>\n",
       "      <td>290.1571</td>\n",
       "      <td>27.1841</td>\n",
       "      <td>32.8977</td>\n",
       "      <td>5.8932</td>\n",
       "      <td>...</td>\n",
       "      <td>0.0</td>\n",
       "      <td>0.0221</td>\n",
       "      <td>0.0</td>\n",
       "      <td>0.0000</td>\n",
       "      <td>0.0738</td>\n",
       "      <td>5.4231</td>\n",
       "      <td>0.0</td>\n",
       "      <td>0.0175</td>\n",
       "      <td>0.0250</td>\n",
       "      <td>0</td>\n",
       "    </tr>\n",
       "    <tr>\n",
       "      <th>TCGA-BC-A10W</th>\n",
       "      <td>46.7263</td>\n",
       "      <td>0.0296</td>\n",
       "      <td>35.3377</td>\n",
       "      <td>1.7605</td>\n",
       "      <td>0.5935</td>\n",
       "      <td>3.3890</td>\n",
       "      <td>281.7136</td>\n",
       "      <td>44.7538</td>\n",
       "      <td>29.8376</td>\n",
       "      <td>4.4768</td>\n",
       "      <td>...</td>\n",
       "      <td>0.0</td>\n",
       "      <td>0.0461</td>\n",
       "      <td>0.0</td>\n",
       "      <td>0.0000</td>\n",
       "      <td>0.4060</td>\n",
       "      <td>3.8735</td>\n",
       "      <td>0.0</td>\n",
       "      <td>0.0136</td>\n",
       "      <td>0.1562</td>\n",
       "      <td>0</td>\n",
       "    </tr>\n",
       "    <tr>\n",
       "      <th>...</th>\n",
       "      <td>...</td>\n",
       "      <td>...</td>\n",
       "      <td>...</td>\n",
       "      <td>...</td>\n",
       "      <td>...</td>\n",
       "      <td>...</td>\n",
       "      <td>...</td>\n",
       "      <td>...</td>\n",
       "      <td>...</td>\n",
       "      <td>...</td>\n",
       "      <td>...</td>\n",
       "      <td>...</td>\n",
       "      <td>...</td>\n",
       "      <td>...</td>\n",
       "      <td>...</td>\n",
       "      <td>...</td>\n",
       "      <td>...</td>\n",
       "      <td>...</td>\n",
       "      <td>...</td>\n",
       "      <td>...</td>\n",
       "      <td>...</td>\n",
       "    </tr>\n",
       "    <tr>\n",
       "      <th>TCGA-FV-A2QR</th>\n",
       "      <td>123.3864</td>\n",
       "      <td>0.0000</td>\n",
       "      <td>76.3030</td>\n",
       "      <td>7.1504</td>\n",
       "      <td>3.8938</td>\n",
       "      <td>4.0080</td>\n",
       "      <td>625.8295</td>\n",
       "      <td>18.6297</td>\n",
       "      <td>24.8572</td>\n",
       "      <td>9.2078</td>\n",
       "      <td>...</td>\n",
       "      <td>0.0</td>\n",
       "      <td>0.0556</td>\n",
       "      <td>0.0</td>\n",
       "      <td>0.0000</td>\n",
       "      <td>0.0000</td>\n",
       "      <td>36.1748</td>\n",
       "      <td>0.0</td>\n",
       "      <td>0.0329</td>\n",
       "      <td>0.4524</td>\n",
       "      <td>1</td>\n",
       "    </tr>\n",
       "    <tr>\n",
       "      <th>TCGA-FV-A3I0</th>\n",
       "      <td>260.5306</td>\n",
       "      <td>0.0000</td>\n",
       "      <td>83.2286</td>\n",
       "      <td>5.5850</td>\n",
       "      <td>1.5653</td>\n",
       "      <td>3.9353</td>\n",
       "      <td>5.7132</td>\n",
       "      <td>51.4775</td>\n",
       "      <td>12.5685</td>\n",
       "      <td>37.7655</td>\n",
       "      <td>...</td>\n",
       "      <td>0.0</td>\n",
       "      <td>0.3602</td>\n",
       "      <td>0.0</td>\n",
       "      <td>0.0000</td>\n",
       "      <td>0.0000</td>\n",
       "      <td>11.6750</td>\n",
       "      <td>0.0</td>\n",
       "      <td>0.0368</td>\n",
       "      <td>0.3793</td>\n",
       "      <td>1</td>\n",
       "    </tr>\n",
       "    <tr>\n",
       "      <th>TCGA-FV-A3I1</th>\n",
       "      <td>102.5488</td>\n",
       "      <td>0.0000</td>\n",
       "      <td>46.1930</td>\n",
       "      <td>6.2951</td>\n",
       "      <td>3.4402</td>\n",
       "      <td>6.9674</td>\n",
       "      <td>748.4068</td>\n",
       "      <td>114.7792</td>\n",
       "      <td>27.9926</td>\n",
       "      <td>21.9619</td>\n",
       "      <td>...</td>\n",
       "      <td>0.0</td>\n",
       "      <td>0.1243</td>\n",
       "      <td>0.0</td>\n",
       "      <td>0.0000</td>\n",
       "      <td>0.0000</td>\n",
       "      <td>10.9026</td>\n",
       "      <td>0.0</td>\n",
       "      <td>0.0803</td>\n",
       "      <td>0.4216</td>\n",
       "      <td>1</td>\n",
       "    </tr>\n",
       "    <tr>\n",
       "      <th>TCGA-FV-A3R2</th>\n",
       "      <td>73.9809</td>\n",
       "      <td>0.0408</td>\n",
       "      <td>102.5936</td>\n",
       "      <td>5.4279</td>\n",
       "      <td>2.2105</td>\n",
       "      <td>1.7105</td>\n",
       "      <td>371.9617</td>\n",
       "      <td>40.3144</td>\n",
       "      <td>52.0074</td>\n",
       "      <td>21.1243</td>\n",
       "      <td>...</td>\n",
       "      <td>0.0</td>\n",
       "      <td>0.0952</td>\n",
       "      <td>0.0</td>\n",
       "      <td>0.0000</td>\n",
       "      <td>0.0000</td>\n",
       "      <td>20.8419</td>\n",
       "      <td>0.0</td>\n",
       "      <td>0.0814</td>\n",
       "      <td>0.2869</td>\n",
       "      <td>1</td>\n",
       "    </tr>\n",
       "    <tr>\n",
       "      <th>TCGA-G3-A3CH</th>\n",
       "      <td>44.1023</td>\n",
       "      <td>0.1445</td>\n",
       "      <td>40.1539</td>\n",
       "      <td>4.6865</td>\n",
       "      <td>0.9645</td>\n",
       "      <td>4.5719</td>\n",
       "      <td>330.0284</td>\n",
       "      <td>39.5632</td>\n",
       "      <td>26.6650</td>\n",
       "      <td>13.6827</td>\n",
       "      <td>...</td>\n",
       "      <td>0.0</td>\n",
       "      <td>0.1216</td>\n",
       "      <td>0.0</td>\n",
       "      <td>0.0000</td>\n",
       "      <td>0.0000</td>\n",
       "      <td>7.1995</td>\n",
       "      <td>0.0</td>\n",
       "      <td>0.0111</td>\n",
       "      <td>0.1587</td>\n",
       "      <td>1</td>\n",
       "    </tr>\n",
       "  </tbody>\n",
       "</table>\n",
       "<p>100 rows × 60661 columns</p>\n",
       "</div>"
      ],
      "text/plain": [
       "gene_id       ENSG00000000003.15  ENSG00000000005.6  ENSG00000000419.13  \\\n",
       "Case ID                                                                   \n",
       "TCGA-BC-A10Q             46.8388             0.0335             32.8076   \n",
       "TCGA-BC-A10R             40.7921             0.6344             36.3942   \n",
       "TCGA-BC-A10T             35.7484             0.0000             28.8150   \n",
       "TCGA-BC-A10U             42.4380             0.0000             37.4583   \n",
       "TCGA-BC-A10W             46.7263             0.0296             35.3377   \n",
       "...                          ...                ...                 ...   \n",
       "TCGA-FV-A2QR            123.3864             0.0000             76.3030   \n",
       "TCGA-FV-A3I0            260.5306             0.0000             83.2286   \n",
       "TCGA-FV-A3I1            102.5488             0.0000             46.1930   \n",
       "TCGA-FV-A3R2             73.9809             0.0408            102.5936   \n",
       "TCGA-G3-A3CH             44.1023             0.1445             40.1539   \n",
       "\n",
       "gene_id       ENSG00000000457.14  ENSG00000000460.17  ENSG00000000938.13  \\\n",
       "Case ID                                                                    \n",
       "TCGA-BC-A10Q              2.9483              0.5707              4.2776   \n",
       "TCGA-BC-A10R              4.0135              0.3422              8.2186   \n",
       "TCGA-BC-A10T              3.7478              0.4119              2.9382   \n",
       "TCGA-BC-A10U              3.4585              0.3170              3.4696   \n",
       "TCGA-BC-A10W              1.7605              0.5935              3.3890   \n",
       "...                          ...                 ...                 ...   \n",
       "TCGA-FV-A2QR              7.1504              3.8938              4.0080   \n",
       "TCGA-FV-A3I0              5.5850              1.5653              3.9353   \n",
       "TCGA-FV-A3I1              6.2951              3.4402              6.9674   \n",
       "TCGA-FV-A3R2              5.4279              2.2105              1.7105   \n",
       "TCGA-G3-A3CH              4.6865              0.9645              4.5719   \n",
       "\n",
       "gene_id       ENSG00000000971.16  ENSG00000001036.14  ENSG00000001084.13  \\\n",
       "Case ID                                                                    \n",
       "TCGA-BC-A10Q            359.9613             27.1020             36.6102   \n",
       "TCGA-BC-A10R            441.5682             29.9106             40.5900   \n",
       "TCGA-BC-A10T            248.6657             23.0128             30.1717   \n",
       "TCGA-BC-A10U            290.1571             27.1841             32.8977   \n",
       "TCGA-BC-A10W            281.7136             44.7538             29.8376   \n",
       "...                          ...                 ...                 ...   \n",
       "TCGA-FV-A2QR            625.8295             18.6297             24.8572   \n",
       "TCGA-FV-A3I0              5.7132             51.4775             12.5685   \n",
       "TCGA-FV-A3I1            748.4068            114.7792             27.9926   \n",
       "TCGA-FV-A3R2            371.9617             40.3144             52.0074   \n",
       "TCGA-G3-A3CH            330.0284             39.5632             26.6650   \n",
       "\n",
       "gene_id       ENSG00000001167.14  ...  ENSG00000288662.1  ENSG00000288663.1  \\\n",
       "Case ID                           ...                                         \n",
       "TCGA-BC-A10Q              5.6229  ...                0.0             0.0433   \n",
       "TCGA-BC-A10R              5.3277  ...                0.0             0.0149   \n",
       "TCGA-BC-A10T              5.5837  ...                0.0             0.0088   \n",
       "TCGA-BC-A10U              5.8932  ...                0.0             0.0221   \n",
       "TCGA-BC-A10W              4.4768  ...                0.0             0.0461   \n",
       "...                          ...  ...                ...                ...   \n",
       "TCGA-FV-A2QR              9.2078  ...                0.0             0.0556   \n",
       "TCGA-FV-A3I0             37.7655  ...                0.0             0.3602   \n",
       "TCGA-FV-A3I1             21.9619  ...                0.0             0.1243   \n",
       "TCGA-FV-A3R2             21.1243  ...                0.0             0.0952   \n",
       "TCGA-G3-A3CH             13.6827  ...                0.0             0.1216   \n",
       "\n",
       "gene_id       ENSG00000288665.1  ENSG00000288667.1  ENSG00000288669.1  \\\n",
       "Case ID                                                                 \n",
       "TCGA-BC-A10Q                0.0             0.0000             0.1486   \n",
       "TCGA-BC-A10R                0.0             0.0000             0.2028   \n",
       "TCGA-BC-A10T                0.0             1.6455             0.0755   \n",
       "TCGA-BC-A10U                0.0             0.0000             0.0738   \n",
       "TCGA-BC-A10W                0.0             0.0000             0.4060   \n",
       "...                         ...                ...                ...   \n",
       "TCGA-FV-A2QR                0.0             0.0000             0.0000   \n",
       "TCGA-FV-A3I0                0.0             0.0000             0.0000   \n",
       "TCGA-FV-A3I1                0.0             0.0000             0.0000   \n",
       "TCGA-FV-A3R2                0.0             0.0000             0.0000   \n",
       "TCGA-G3-A3CH                0.0             0.0000             0.0000   \n",
       "\n",
       "gene_id       ENSG00000288670.1  ENSG00000288671.1  ENSG00000288674.1  \\\n",
       "Case ID                                                                 \n",
       "TCGA-BC-A10Q             6.1480                0.0             0.0154   \n",
       "TCGA-BC-A10R             6.9019                0.0             0.0221   \n",
       "TCGA-BC-A10T             7.8322                0.0             0.0209   \n",
       "TCGA-BC-A10U             5.4231                0.0             0.0175   \n",
       "TCGA-BC-A10W             3.8735                0.0             0.0136   \n",
       "...                         ...                ...                ...   \n",
       "TCGA-FV-A2QR            36.1748                0.0             0.0329   \n",
       "TCGA-FV-A3I0            11.6750                0.0             0.0368   \n",
       "TCGA-FV-A3I1            10.9026                0.0             0.0803   \n",
       "TCGA-FV-A3R2            20.8419                0.0             0.0814   \n",
       "TCGA-G3-A3CH             7.1995                0.0             0.0111   \n",
       "\n",
       "gene_id       ENSG00000288675.1  Group  \n",
       "Case ID                                 \n",
       "TCGA-BC-A10Q             0.0588      0  \n",
       "TCGA-BC-A10R             0.1774      0  \n",
       "TCGA-BC-A10T             0.0000      0  \n",
       "TCGA-BC-A10U             0.0250      0  \n",
       "TCGA-BC-A10W             0.1562      0  \n",
       "...                         ...    ...  \n",
       "TCGA-FV-A2QR             0.4524      1  \n",
       "TCGA-FV-A3I0             0.3793      1  \n",
       "TCGA-FV-A3I1             0.4216      1  \n",
       "TCGA-FV-A3R2             0.2869      1  \n",
       "TCGA-G3-A3CH             0.1587      1  \n",
       "\n",
       "[100 rows x 60661 columns]"
      ]
     },
     "execution_count": 38,
     "metadata": {},
     "output_type": "execute_result"
    }
   ],
   "source": [
    "full_data"
   ]
  },
  {
   "cell_type": "code",
   "execution_count": 39,
   "id": "03bf4337",
   "metadata": {},
   "outputs": [],
   "source": [
    "Y=full_data.iloc[:,full_data.columns == 'Group']\n",
    "X=full_data.iloc[:,full_data.columns != 'Group']"
   ]
  },
  {
   "cell_type": "code",
   "execution_count": 40,
   "id": "122b2c76",
   "metadata": {},
   "outputs": [],
   "source": [
    "from sklearn.model_selection import train_test_split\n",
    "\n",
    "X_tr, X_val, Y_tr, Y_val = train_test_split(X, Y, test_size= 0.20, random_state=1303,stratify=Y,shuffle = True)\n"
   ]
  },
  {
   "cell_type": "code",
   "execution_count": 41,
   "id": "62c12cd7",
   "metadata": {},
   "outputs": [
    {
     "data": {
      "text/html": [
       "<div>\n",
       "<style scoped>\n",
       "    .dataframe tbody tr th:only-of-type {\n",
       "        vertical-align: middle;\n",
       "    }\n",
       "\n",
       "    .dataframe tbody tr th {\n",
       "        vertical-align: top;\n",
       "    }\n",
       "\n",
       "    .dataframe thead th {\n",
       "        text-align: right;\n",
       "    }\n",
       "</style>\n",
       "<table border=\"1\" class=\"dataframe\">\n",
       "  <thead>\n",
       "    <tr style=\"text-align: right;\">\n",
       "      <th>gene_id</th>\n",
       "      <th>ENSG00000255823.5</th>\n",
       "      <th>ENSG00000087086.15</th>\n",
       "      <th>ENSG00000163736.4</th>\n",
       "      <th>ENSG00000205542.11</th>\n",
       "      <th>ENSG00000163191.6</th>\n",
       "      <th>ENSG00000163220.11</th>\n",
       "      <th>ENSG00000075624.17</th>\n",
       "    </tr>\n",
       "    <tr>\n",
       "      <th>Case ID</th>\n",
       "      <th></th>\n",
       "      <th></th>\n",
       "      <th></th>\n",
       "      <th></th>\n",
       "      <th></th>\n",
       "      <th></th>\n",
       "      <th></th>\n",
       "    </tr>\n",
       "  </thead>\n",
       "  <tbody>\n",
       "    <tr>\n",
       "      <th>TCGA-DD-A116</th>\n",
       "      <td>0.6458</td>\n",
       "      <td>16354.2991</td>\n",
       "      <td>0.0290</td>\n",
       "      <td>366.6772</td>\n",
       "      <td>78.4900</td>\n",
       "      <td>49.1536</td>\n",
       "      <td>615.9923</td>\n",
       "    </tr>\n",
       "    <tr>\n",
       "      <th>TCGA-DD-A1EI</th>\n",
       "      <td>0.8806</td>\n",
       "      <td>12727.7386</td>\n",
       "      <td>0.2033</td>\n",
       "      <td>470.5326</td>\n",
       "      <td>69.6534</td>\n",
       "      <td>14.1091</td>\n",
       "      <td>784.8307</td>\n",
       "    </tr>\n",
       "    <tr>\n",
       "      <th>TCGA-DD-A118</th>\n",
       "      <td>1.0085</td>\n",
       "      <td>18243.9153</td>\n",
       "      <td>2.3631</td>\n",
       "      <td>486.6031</td>\n",
       "      <td>78.8919</td>\n",
       "      <td>120.1392</td>\n",
       "      <td>698.7096</td>\n",
       "    </tr>\n",
       "    <tr>\n",
       "      <th>TCGA-FV-A23B</th>\n",
       "      <td>1.3799</td>\n",
       "      <td>16791.6416</td>\n",
       "      <td>0.3575</td>\n",
       "      <td>822.7874</td>\n",
       "      <td>132.4884</td>\n",
       "      <td>50.4158</td>\n",
       "      <td>1100.2297</td>\n",
       "    </tr>\n",
       "    <tr>\n",
       "      <th>TCGA-BC-A10U</th>\n",
       "      <td>0.8132</td>\n",
       "      <td>8430.9853</td>\n",
       "      <td>0.2896</td>\n",
       "      <td>436.9524</td>\n",
       "      <td>110.8798</td>\n",
       "      <td>53.2146</td>\n",
       "      <td>1147.0198</td>\n",
       "    </tr>\n",
       "    <tr>\n",
       "      <th>...</th>\n",
       "      <td>...</td>\n",
       "      <td>...</td>\n",
       "      <td>...</td>\n",
       "      <td>...</td>\n",
       "      <td>...</td>\n",
       "      <td>...</td>\n",
       "      <td>...</td>\n",
       "    </tr>\n",
       "    <tr>\n",
       "      <th>TCGA-DD-A1EB</th>\n",
       "      <td>3.0530</td>\n",
       "      <td>18001.9920</td>\n",
       "      <td>0.2107</td>\n",
       "      <td>446.0265</td>\n",
       "      <td>78.0826</td>\n",
       "      <td>139.5479</td>\n",
       "      <td>1042.8515</td>\n",
       "    </tr>\n",
       "    <tr>\n",
       "      <th>TCGA-DD-A113</th>\n",
       "      <td>2.3680</td>\n",
       "      <td>27181.9144</td>\n",
       "      <td>0.6145</td>\n",
       "      <td>338.8559</td>\n",
       "      <td>60.7887</td>\n",
       "      <td>52.7336</td>\n",
       "      <td>1191.2149</td>\n",
       "    </tr>\n",
       "    <tr>\n",
       "      <th>TCGA-BD-A2L6</th>\n",
       "      <td>1.4202</td>\n",
       "      <td>13396.4669</td>\n",
       "      <td>0.1720</td>\n",
       "      <td>786.2914</td>\n",
       "      <td>84.5976</td>\n",
       "      <td>15.1739</td>\n",
       "      <td>1171.6569</td>\n",
       "    </tr>\n",
       "    <tr>\n",
       "      <th>TCGA-BC-A110</th>\n",
       "      <td>0.7356</td>\n",
       "      <td>12298.8493</td>\n",
       "      <td>0.0662</td>\n",
       "      <td>1117.8607</td>\n",
       "      <td>254.4794</td>\n",
       "      <td>209.7607</td>\n",
       "      <td>1654.8984</td>\n",
       "    </tr>\n",
       "    <tr>\n",
       "      <th>TCGA-DD-A1EG</th>\n",
       "      <td>0.4081</td>\n",
       "      <td>102233.2225</td>\n",
       "      <td>0.0000</td>\n",
       "      <td>1250.6808</td>\n",
       "      <td>445.4869</td>\n",
       "      <td>46.6587</td>\n",
       "      <td>2589.0233</td>\n",
       "    </tr>\n",
       "  </tbody>\n",
       "</table>\n",
       "<p>80 rows × 7 columns</p>\n",
       "</div>"
      ],
      "text/plain": [
       "gene_id       ENSG00000255823.5  ENSG00000087086.15  ENSG00000163736.4  \\\n",
       "Case ID                                                                  \n",
       "TCGA-DD-A116             0.6458          16354.2991             0.0290   \n",
       "TCGA-DD-A1EI             0.8806          12727.7386             0.2033   \n",
       "TCGA-DD-A118             1.0085          18243.9153             2.3631   \n",
       "TCGA-FV-A23B             1.3799          16791.6416             0.3575   \n",
       "TCGA-BC-A10U             0.8132           8430.9853             0.2896   \n",
       "...                         ...                 ...                ...   \n",
       "TCGA-DD-A1EB             3.0530          18001.9920             0.2107   \n",
       "TCGA-DD-A113             2.3680          27181.9144             0.6145   \n",
       "TCGA-BD-A2L6             1.4202          13396.4669             0.1720   \n",
       "TCGA-BC-A110             0.7356          12298.8493             0.0662   \n",
       "TCGA-DD-A1EG             0.4081         102233.2225             0.0000   \n",
       "\n",
       "gene_id       ENSG00000205542.11  ENSG00000163191.6  ENSG00000163220.11  \\\n",
       "Case ID                                                                   \n",
       "TCGA-DD-A116            366.6772            78.4900             49.1536   \n",
       "TCGA-DD-A1EI            470.5326            69.6534             14.1091   \n",
       "TCGA-DD-A118            486.6031            78.8919            120.1392   \n",
       "TCGA-FV-A23B            822.7874           132.4884             50.4158   \n",
       "TCGA-BC-A10U            436.9524           110.8798             53.2146   \n",
       "...                          ...                ...                 ...   \n",
       "TCGA-DD-A1EB            446.0265            78.0826            139.5479   \n",
       "TCGA-DD-A113            338.8559            60.7887             52.7336   \n",
       "TCGA-BD-A2L6            786.2914            84.5976             15.1739   \n",
       "TCGA-BC-A110           1117.8607           254.4794            209.7607   \n",
       "TCGA-DD-A1EG           1250.6808           445.4869             46.6587   \n",
       "\n",
       "gene_id       ENSG00000075624.17  \n",
       "Case ID                           \n",
       "TCGA-DD-A116            615.9923  \n",
       "TCGA-DD-A1EI            784.8307  \n",
       "TCGA-DD-A118            698.7096  \n",
       "TCGA-FV-A23B           1100.2297  \n",
       "TCGA-BC-A10U           1147.0198  \n",
       "...                          ...  \n",
       "TCGA-DD-A1EB           1042.8515  \n",
       "TCGA-DD-A113           1191.2149  \n",
       "TCGA-BD-A2L6           1171.6569  \n",
       "TCGA-BC-A110           1654.8984  \n",
       "TCGA-DD-A1EG           2589.0233  \n",
       "\n",
       "[80 rows x 7 columns]"
      ]
     },
     "execution_count": 41,
     "metadata": {},
     "output_type": "execute_result"
    }
   ],
   "source": [
    "X_tr[['ENSG00000255823.5','ENSG00000087086.15','ENSG00000163736.4','ENSG00000205542.11','ENSG00000163191.6',\n",
    "      'ENSG00000163220.11','ENSG00000075624.17']]\n",
    "#,'ENSG00000131149.19','ENSG00000131002.12'"
   ]
  },
  {
   "cell_type": "code",
   "execution_count": 43,
   "id": "3c82c57f",
   "metadata": {},
   "outputs": [],
   "source": [
    "Xtr_filtered=X_tr[['ENSG00000255823.5','ENSG00000087086.15','ENSG00000163736.4','ENSG00000205542.11','ENSG00000163191.6',\n",
    "                   'ENSG00000163220.11','ENSG00000075624.17']]\n",
    "#,'ENSG00000131149.19','ENSG00000131002.12'\n",
    "Xtr_filtered=Xtr_filtered.fillna(0)"
   ]
  },
  {
   "cell_type": "code",
   "execution_count": 44,
   "id": "c216ba12",
   "metadata": {},
   "outputs": [],
   "source": [
    "from sklearn.preprocessing import Normalizer\n",
    "transformer = Normalizer()\n",
    "Xtr_filtered_S= transformer.fit_transform(Xtr_filtered)"
   ]
  },
  {
   "cell_type": "code",
   "execution_count": 45,
   "id": "7a54bc2e",
   "metadata": {},
   "outputs": [],
   "source": [
    "def modelPerformance(confMat):\n",
    "    TN = confMat[0, 0]\n",
    "    TP = confMat[1, 1]\n",
    "    FP = confMat[0, 1]\n",
    "    FN = confMat[1, 0]\n",
    "    prec = TP / (TP + FP)\n",
    "    rec = TP / (TP + FN)\n",
    "    spec = TN / (TN + FP)\n",
    "    fpr = FP / (TN + FP)\n",
    "    f1 = 2 * (prec * rec) / (prec + rec)\n",
    "    acc = (TP + TN) / (TP + FP + TN + FN)\n",
    "    return (acc, prec, rec, spec, fpr, f1)\n",
    "\n",
    "def printPerformance(confMat):\n",
    "    acc, prec, rec, spec, fpr, f1 = modelPerformance(confMat)\n",
    "    print(\"Accuracy = \" \"%.4f\" % acc)\n",
    "    print(\"Precision = \" \"%.4f\" % prec)\n",
    "    print(\"Recall = \" \"%.4f\" % rec)\n",
    "    print(\"Specificity = \" \"%.4f\" % spec)\n",
    "    print(\"False positive rate = \" \"%.4f\" % fpr)\n",
    "    print(\"F1-score = \" \"%.4f\" % f1)\n",
    "    np.set_printoptions(precision=2)\n",
    "    print(\"Confusion matrix (%):\")\n",
    "    print(confMat/np.sum(confMat)*100)"
   ]
  },
  {
   "cell_type": "code",
   "execution_count": 46,
   "id": "95d941d7",
   "metadata": {},
   "outputs": [
    {
     "name": "stdout",
     "output_type": "stream",
     "text": [
      "Fitting 5 folds for each of 104 candidates, totalling 520 fits\n"
     ]
    },
    {
     "name": "stderr",
     "output_type": "stream",
     "text": [
      "C:\\Users\\e0998126.NUSSTU\\Anaconda3\\lib\\site-packages\\sklearn\\utils\\validation.py:993: DataConversionWarning: A column-vector y was passed when a 1d array was expected. Please change the shape of y to (n_samples, ), for example using ravel().\n",
      "  y = column_or_1d(y, warn=True)\n"
     ]
    },
    {
     "data": {
      "text/plain": [
       "{'C': 1000000.0, 'gamma': 'scale', 'kernel': 'poly', 'random_state': 1303}"
      ]
     },
     "metadata": {},
     "output_type": "display_data"
    },
    {
     "data": {
      "text/plain": [
       "0.8875"
      ]
     },
     "execution_count": 46,
     "metadata": {},
     "output_type": "execute_result"
    }
   ],
   "source": [
    "param_grid_SVC = {'C': np.logspace(-2, 10, 13), \n",
    "              'random_state':[1303],\n",
    "              'kernel':['linear','poly','rbf','sigmoid'],\n",
    "              'gamma':['scale','auto']}\n",
    "\n",
    "gridcv = GridSearchCV(SVC(), param_grid_SVC, refit=True, cv=5, verbose=1, n_jobs=-1)\n",
    "\n",
    "\n",
    "# fit the model for grid search \n",
    "gridcv.fit(Xtr_filtered_S, Y_tr) \n",
    " \n",
    "# display best parameters after tuning \n",
    "display(gridcv.best_params_) \n",
    "gridcv.best_score_"
   ]
  },
  {
   "cell_type": "code",
   "execution_count": 47,
   "id": "9b720d68",
   "metadata": {},
   "outputs": [
    {
     "name": "stdout",
     "output_type": "stream",
     "text": [
      "0.9\n",
      "0.8875\n"
     ]
    },
    {
     "name": "stderr",
     "output_type": "stream",
     "text": [
      "C:\\Users\\e0998126.NUSSTU\\Anaconda3\\lib\\site-packages\\sklearn\\utils\\deprecation.py:87: FutureWarning: Function plot_roc_curve is deprecated; Function :func:`plot_roc_curve` is deprecated in 1.0 and will be removed in 1.2. Use one of the class methods: :meth:`sklearn.metric.RocCurveDisplay.from_predictions` or :meth:`sklearn.metric.RocCurveDisplay.from_estimator`.\n",
      "  warnings.warn(msg, category=FutureWarning)\n",
      "C:\\Users\\e0998126.NUSSTU\\Anaconda3\\lib\\site-packages\\sklearn\\utils\\deprecation.py:87: FutureWarning: Function plot_roc_curve is deprecated; Function :func:`plot_roc_curve` is deprecated in 1.0 and will be removed in 1.2. Use one of the class methods: :meth:`sklearn.metric.RocCurveDisplay.from_predictions` or :meth:`sklearn.metric.RocCurveDisplay.from_estimator`.\n",
      "  warnings.warn(msg, category=FutureWarning)\n",
      "C:\\Users\\e0998126.NUSSTU\\Anaconda3\\lib\\site-packages\\sklearn\\utils\\deprecation.py:87: FutureWarning: Function plot_roc_curve is deprecated; Function :func:`plot_roc_curve` is deprecated in 1.0 and will be removed in 1.2. Use one of the class methods: :meth:`sklearn.metric.RocCurveDisplay.from_predictions` or :meth:`sklearn.metric.RocCurveDisplay.from_estimator`.\n",
      "  warnings.warn(msg, category=FutureWarning)\n",
      "C:\\Users\\e0998126.NUSSTU\\Anaconda3\\lib\\site-packages\\sklearn\\utils\\deprecation.py:87: FutureWarning: Function plot_roc_curve is deprecated; Function :func:`plot_roc_curve` is deprecated in 1.0 and will be removed in 1.2. Use one of the class methods: :meth:`sklearn.metric.RocCurveDisplay.from_predictions` or :meth:`sklearn.metric.RocCurveDisplay.from_estimator`.\n",
      "  warnings.warn(msg, category=FutureWarning)\n",
      "C:\\Users\\e0998126.NUSSTU\\Anaconda3\\lib\\site-packages\\sklearn\\utils\\deprecation.py:87: FutureWarning: Function plot_roc_curve is deprecated; Function :func:`plot_roc_curve` is deprecated in 1.0 and will be removed in 1.2. Use one of the class methods: :meth:`sklearn.metric.RocCurveDisplay.from_predictions` or :meth:`sklearn.metric.RocCurveDisplay.from_estimator`.\n",
      "  warnings.warn(msg, category=FutureWarning)\n"
     ]
    },
    {
     "data": {
      "image/png": "[encoded data removed]",
      "text/plain": [
       "<Figure size 432x288 with 1 Axes>"
      ]
     },
     "metadata": {
      "needs_background": "light"
     },
     "output_type": "display_data"
    }
   ],
   "source": [
    "clfSVC = gridcv.best_estimator_\n",
    "\n",
    "\n",
    "cv = StratifiedKFold(n_splits=5)\n",
    "scores = ('accuracy','roc_auc')\n",
    "output = pd.DataFrame(cross_validate(clfSVC, Xtr_filtered_S, Y_tr, scoring=scores, cv=cv, n_jobs=-1))\n",
    "print(mean(output['test_roc_auc']))\n",
    "print(mean((output['test_accuracy'])))\n",
    "\n",
    "tprs=[]\n",
    "aucs=[]\n",
    "mean_fpr=np.linspace(0,1,100)\n",
    "cv = StratifiedKFold(n_splits=5)\n",
    "fig,ax=plt.subplots()\n",
    "for i, (train, test) in enumerate(cv.split(Xtr_filtered_S, Y_tr)):\n",
    "    \n",
    "    clfSVC.fit(Xtr_filtered_S[train],Y_tr.iloc[list(train)].values.ravel())\n",
    "    vis=plot_roc_curve(clfSVC, Xtr_filtered_S[test],Y_tr.iloc[list(test)], name='ROC fold{}'.format(i),alpha=0.3,lw=1,ax=ax)\n",
    "   \n",
    "    tprs.append(np.interp(mean_fpr, vis.fpr, vis.tpr))\n",
    "    tprs[-1][0]=0.0\n",
    "    aucs.append(vis.roc_auc)\n",
    "   \n",
    "ax.plot([0,1],[0,1],linestyle='--', lw=2, color='r', label = 'Chance', alpha = 0.8)\n",
    "mean_tpr = np.mean(tprs, axis=0)\n",
    "mean_tpr[-1]=1\n",
    "mean_auc=auc(mean_fpr,mean_tpr)\n",
    "std_auc=np.std(aucs)\n",
    "ax.plot(mean_fpr,mean_tpr,color='b', label=r'Mean ROC (AUC=%0.2f $\\pm$ %0.2f)' %(mean_auc,std_auc), lw=2, alpha=0.8)\n",
    "\n",
    "std_tpr = np.std(tprs, axis=0)\n",
    "tprs_upper = np.minimum(mean_tpr+std_tpr,1)\n",
    "tprs_lower=np.maximum(mean_tpr-std_tpr,0)\n",
    "ax.fill_between(mean_fpr, tprs_lower, tprs_upper,color='grey',alpha= 0.2, label=r'$\\pm$ 1 std. dev.')\n",
    "\n",
    "ax.set(xlim=[-0.01,1.01],ylim=[-0.01,1.01],title=\"SVM poly\")\n",
    "ax.legend(loc=\"lower right\")\n",
    "plt.show()"
   ]
  },
  {
   "cell_type": "code",
   "execution_count": 51,
   "id": "b37fbdc3",
   "metadata": {},
   "outputs": [
    {
     "name": "stdout",
     "output_type": "stream",
     "text": [
      "Fitting 5 folds for each of 81 candidates, totalling 405 fits\n"
     ]
    },
    {
     "name": "stderr",
     "output_type": "stream",
     "text": [
      "C:\\Users\\e0998126.NUSSTU\\Anaconda3\\lib\\site-packages\\sklearn\\neural_network\\_multilayer_perceptron.py:1109: DataConversionWarning: A column-vector y was passed when a 1d array was expected. Please change the shape of y to (n_samples, ), for example using ravel().\n",
      "  y = column_or_1d(y, warn=True)\n",
      "C:\\Users\\e0998126.NUSSTU\\Anaconda3\\lib\\site-packages\\sklearn\\neural_network\\_multilayer_perceptron.py:549: ConvergenceWarning: lbfgs failed to converge (status=1):\n",
      "STOP: TOTAL NO. of ITERATIONS REACHED LIMIT.\n",
      "\n",
      "Increase the number of iterations (max_iter) or scale the data as shown in:\n",
      "    https://scikit-learn.org/stable/modules/preprocessing.html\n",
      "  self.n_iter_ = _check_optimize_result(\"lbfgs\", opt_res, self.max_iter)\n"
     ]
    },
    {
     "data": {
      "text/plain": [
       "{'activation': 'tanh',\n",
       " 'alpha': 0.0001,\n",
       " 'hidden_layer_sizes': (100, 200),\n",
       " 'max_iter': 200,\n",
       " 'random_state': 1303,\n",
       " 'solver': 'lbfgs'}"
      ]
     },
     "metadata": {},
     "output_type": "display_data"
    },
    {
     "name": "stderr",
     "output_type": "stream",
     "text": [
      "C:\\Users\\e0998126.NUSSTU\\Anaconda3\\lib\\site-packages\\sklearn\\neural_network\\_multilayer_perceptron.py:549: ConvergenceWarning: lbfgs failed to converge (status=1):\n",
      "STOP: TOTAL NO. of ITERATIONS REACHED LIMIT.\n",
      "\n",
      "Increase the number of iterations (max_iter) or scale the data as shown in:\n",
      "    https://scikit-learn.org/stable/modules/preprocessing.html\n",
      "  self.n_iter_ = _check_optimize_result(\"lbfgs\", opt_res, self.max_iter)\n",
      "C:\\Users\\e0998126.NUSSTU\\Anaconda3\\lib\\site-packages\\sklearn\\utils\\deprecation.py:87: FutureWarning: Function plot_roc_curve is deprecated; Function :func:`plot_roc_curve` is deprecated in 1.0 and will be removed in 1.2. Use one of the class methods: :meth:`sklearn.metric.RocCurveDisplay.from_predictions` or :meth:`sklearn.metric.RocCurveDisplay.from_estimator`.\n",
      "  warnings.warn(msg, category=FutureWarning)\n",
      "C:\\Users\\e0998126.NUSSTU\\Anaconda3\\lib\\site-packages\\sklearn\\neural_network\\_multilayer_perceptron.py:549: ConvergenceWarning: lbfgs failed to converge (status=1):\n",
      "STOP: TOTAL NO. of ITERATIONS REACHED LIMIT.\n",
      "\n",
      "Increase the number of iterations (max_iter) or scale the data as shown in:\n",
      "    https://scikit-learn.org/stable/modules/preprocessing.html\n",
      "  self.n_iter_ = _check_optimize_result(\"lbfgs\", opt_res, self.max_iter)\n",
      "C:\\Users\\e0998126.NUSSTU\\Anaconda3\\lib\\site-packages\\sklearn\\utils\\deprecation.py:87: FutureWarning: Function plot_roc_curve is deprecated; Function :func:`plot_roc_curve` is deprecated in 1.0 and will be removed in 1.2. Use one of the class methods: :meth:`sklearn.metric.RocCurveDisplay.from_predictions` or :meth:`sklearn.metric.RocCurveDisplay.from_estimator`.\n",
      "  warnings.warn(msg, category=FutureWarning)\n",
      "C:\\Users\\e0998126.NUSSTU\\Anaconda3\\lib\\site-packages\\sklearn\\neural_network\\_multilayer_perceptron.py:549: ConvergenceWarning: lbfgs failed to converge (status=1):\n",
      "STOP: TOTAL NO. of ITERATIONS REACHED LIMIT.\n",
      "\n",
      "Increase the number of iterations (max_iter) or scale the data as shown in:\n",
      "    https://scikit-learn.org/stable/modules/preprocessing.html\n",
      "  self.n_iter_ = _check_optimize_result(\"lbfgs\", opt_res, self.max_iter)\n",
      "C:\\Users\\e0998126.NUSSTU\\Anaconda3\\lib\\site-packages\\sklearn\\utils\\deprecation.py:87: FutureWarning: Function plot_roc_curve is deprecated; Function :func:`plot_roc_curve` is deprecated in 1.0 and will be removed in 1.2. Use one of the class methods: :meth:`sklearn.metric.RocCurveDisplay.from_predictions` or :meth:`sklearn.metric.RocCurveDisplay.from_estimator`.\n",
      "  warnings.warn(msg, category=FutureWarning)\n",
      "C:\\Users\\e0998126.NUSSTU\\Anaconda3\\lib\\site-packages\\sklearn\\neural_network\\_multilayer_perceptron.py:549: ConvergenceWarning: lbfgs failed to converge (status=1):\n",
      "STOP: TOTAL NO. of ITERATIONS REACHED LIMIT.\n",
      "\n",
      "Increase the number of iterations (max_iter) or scale the data as shown in:\n",
      "    https://scikit-learn.org/stable/modules/preprocessing.html\n",
      "  self.n_iter_ = _check_optimize_result(\"lbfgs\", opt_res, self.max_iter)\n",
      "C:\\Users\\e0998126.NUSSTU\\Anaconda3\\lib\\site-packages\\sklearn\\utils\\deprecation.py:87: FutureWarning: Function plot_roc_curve is deprecated; Function :func:`plot_roc_curve` is deprecated in 1.0 and will be removed in 1.2. Use one of the class methods: :meth:`sklearn.metric.RocCurveDisplay.from_predictions` or :meth:`sklearn.metric.RocCurveDisplay.from_estimator`.\n",
      "  warnings.warn(msg, category=FutureWarning)\n",
      "C:\\Users\\e0998126.NUSSTU\\Anaconda3\\lib\\site-packages\\sklearn\\neural_network\\_multilayer_perceptron.py:549: ConvergenceWarning: lbfgs failed to converge (status=1):\n",
      "STOP: TOTAL NO. of ITERATIONS REACHED LIMIT.\n",
      "\n",
      "Increase the number of iterations (max_iter) or scale the data as shown in:\n",
      "    https://scikit-learn.org/stable/modules/preprocessing.html\n",
      "  self.n_iter_ = _check_optimize_result(\"lbfgs\", opt_res, self.max_iter)\n",
      "C:\\Users\\e0998126.NUSSTU\\Anaconda3\\lib\\site-packages\\sklearn\\utils\\deprecation.py:87: FutureWarning: Function plot_roc_curve is deprecated; Function :func:`plot_roc_curve` is deprecated in 1.0 and will be removed in 1.2. Use one of the class methods: :meth:`sklearn.metric.RocCurveDisplay.from_predictions` or :meth:`sklearn.metric.RocCurveDisplay.from_estimator`.\n",
      "  warnings.warn(msg, category=FutureWarning)\n"
     ]
    },
    {
     "data": {
      "image/png": "[encoded data removed]",
      "text/plain": [
       "<Figure size 432x288 with 1 Axes>"
      ]
     },
     "metadata": {
      "needs_background": "light"
     },
     "output_type": "display_data"
    }
   ],
   "source": [
    "parameters = {'solver': ['lbfgs','adam','sgd'], 'max_iter': [200], 'alpha': 10.0 ** -np.arange(1, 10), 'hidden_layer_sizes':[(100,200)] ,'random_state':[1303], 'activation':['tanh','relu','logistic']}\n",
    "\n",
    "\n",
    "gridcv = GridSearchCV(MLPClassifier(), parameters, refit=True, cv=5, verbose=1, n_jobs=-1)\n",
    "\n",
    "\n",
    "# fit the model for grid search \n",
    "gridcv.fit(Xtr_filtered_S, Y_tr) \n",
    " \n",
    "# display best parameters after tuning \n",
    "display(gridcv.best_params_) \n",
    "\n",
    "mlp = gridcv.best_estimator_\n",
    "tprs=[]\n",
    "aucs=[]\n",
    "mean_fpr=np.linspace(0,1,100)\n",
    "cv = StratifiedKFold(n_splits=5)\n",
    "fig,ax=plt.subplots()\n",
    "for i, (train, test) in enumerate(cv.split(Xtr_filtered_S, Y_tr)):\n",
    "    \n",
    "    mlp.fit(Xtr_filtered_S[train],Y_tr.iloc[list(train)].values.ravel()).predict_proba(Xtr_filtered_S[test])\n",
    "    vis=plot_roc_curve(mlp, Xtr_filtered_S[test],Y_tr.iloc[list(test)], name='ROC fold{}'.format(i),alpha=0.3,lw=1,ax=ax)\n",
    "   \n",
    "    tprs.append(np.interp(mean_fpr, vis.fpr, vis.tpr))\n",
    "    tprs[-1][0]=0.0\n",
    "    aucs.append(vis.roc_auc)\n",
    "   \n",
    "ax.plot([0,1],[0,1],linestyle='--', lw=2, color='r', label = 'Chance', alpha = 0.8)\n",
    "mean_tpr = np.mean(tprs, axis=0)\n",
    "mean_tpr[-1]=1\n",
    "mean_auc=auc(mean_fpr,mean_tpr)\n",
    "std_auc=np.std(aucs)\n",
    "ax.plot(mean_fpr,mean_tpr,color='b', label=r'Mean ROC (AUC=%0.2f $\\pm$ %0.2f)' %(mean_auc,std_auc), lw=2, alpha=0.8)\n",
    "\n",
    "std_tpr = np.std(tprs, axis=0)\n",
    "tprs_upper = np.minimum(mean_tpr+std_tpr,1)\n",
    "tprs_lower=np.maximum(mean_tpr-std_tpr,0)\n",
    "ax.fill_between(mean_fpr, tprs_lower, tprs_upper,color='grey',alpha= 0.2, label=r'$\\pm$ 1 std. dev.')\n",
    "\n",
    "ax.set(xlim=[-0.01,1.01],ylim=[-0.01,1.01],title=\"MLP\")\n",
    "ax.legend(loc=\"lower right\")\n",
    "plt.show()"
   ]
  },
  {
   "cell_type": "code",
   "execution_count": 52,
   "id": "a8ffeb5c",
   "metadata": {},
   "outputs": [
    {
     "name": "stdout",
     "output_type": "stream",
     "text": [
      "Fitting 3 folds for each of 54 candidates, totalling 162 fits\n"
     ]
    },
    {
     "name": "stderr",
     "output_type": "stream",
     "text": [
      "C:\\Users\\e0998126.NUSSTU\\Anaconda3\\lib\\site-packages\\sklearn\\model_selection\\_search.py:926: DataConversionWarning: A column-vector y was passed when a 1d array was expected. Please change the shape of y to (n_samples,), for example using ravel().\n",
      "  self.best_estimator_.fit(X, y, **fit_params)\n"
     ]
    },
    {
     "data": {
      "text/plain": [
       "{'class_weight': 'balanced_subsample',\n",
       " 'max_depth': 5,\n",
       " 'min_samples_leaf': 1,\n",
       " 'min_samples_split': 5,\n",
       " 'n_estimators': 200}"
      ]
     },
     "metadata": {},
     "output_type": "display_data"
    },
    {
     "name": "stderr",
     "output_type": "stream",
     "text": [
      "C:\\Users\\e0998126.NUSSTU\\Anaconda3\\lib\\site-packages\\sklearn\\utils\\deprecation.py:87: FutureWarning: Function plot_roc_curve is deprecated; Function :func:`plot_roc_curve` is deprecated in 1.0 and will be removed in 1.2. Use one of the class methods: :meth:`sklearn.metric.RocCurveDisplay.from_predictions` or :meth:`sklearn.metric.RocCurveDisplay.from_estimator`.\n",
      "  warnings.warn(msg, category=FutureWarning)\n",
      "C:\\Users\\e0998126.NUSSTU\\Anaconda3\\lib\\site-packages\\sklearn\\utils\\deprecation.py:87: FutureWarning: Function plot_roc_curve is deprecated; Function :func:`plot_roc_curve` is deprecated in 1.0 and will be removed in 1.2. Use one of the class methods: :meth:`sklearn.metric.RocCurveDisplay.from_predictions` or :meth:`sklearn.metric.RocCurveDisplay.from_estimator`.\n",
      "  warnings.warn(msg, category=FutureWarning)\n",
      "C:\\Users\\e0998126.NUSSTU\\Anaconda3\\lib\\site-packages\\sklearn\\utils\\deprecation.py:87: FutureWarning: Function plot_roc_curve is deprecated; Function :func:`plot_roc_curve` is deprecated in 1.0 and will be removed in 1.2. Use one of the class methods: :meth:`sklearn.metric.RocCurveDisplay.from_predictions` or :meth:`sklearn.metric.RocCurveDisplay.from_estimator`.\n",
      "  warnings.warn(msg, category=FutureWarning)\n",
      "C:\\Users\\e0998126.NUSSTU\\Anaconda3\\lib\\site-packages\\sklearn\\utils\\deprecation.py:87: FutureWarning: Function plot_roc_curve is deprecated; Function :func:`plot_roc_curve` is deprecated in 1.0 and will be removed in 1.2. Use one of the class methods: :meth:`sklearn.metric.RocCurveDisplay.from_predictions` or :meth:`sklearn.metric.RocCurveDisplay.from_estimator`.\n",
      "  warnings.warn(msg, category=FutureWarning)\n",
      "C:\\Users\\e0998126.NUSSTU\\Anaconda3\\lib\\site-packages\\sklearn\\utils\\deprecation.py:87: FutureWarning: Function plot_roc_curve is deprecated; Function :func:`plot_roc_curve` is deprecated in 1.0 and will be removed in 1.2. Use one of the class methods: :meth:`sklearn.metric.RocCurveDisplay.from_predictions` or :meth:`sklearn.metric.RocCurveDisplay.from_estimator`.\n",
      "  warnings.warn(msg, category=FutureWarning)\n"
     ]
    },
    {
     "data": {
      "image/png": "[encoded data removed]",
      "text/plain": [
       "<Figure size 432x288 with 1 Axes>"
      ]
     },
     "metadata": {
      "needs_background": "light"
     },
     "output_type": "display_data"
    }
   ],
   "source": [
    "n_estimators = [ 200, 1000, 7000]\n",
    "max_depth = [5, 8]\n",
    "min_samples_split = [2, 5, 15]\n",
    "min_samples_leaf = [1, 2, 5] \n",
    "class_weight=['balanced_subsample']\n",
    "hyperF = dict(n_estimators = n_estimators, max_depth = max_depth,min_samples_split = min_samples_split, \n",
    "             min_samples_leaf = min_samples_leaf,class_weight=class_weight)\n",
    "\n",
    "gridF = GridSearchCV(RandomForestClassifier(random_state = 1303), hyperF, cv = 3, verbose = 1, \n",
    "                      n_jobs = -1)\n",
    "bestF = gridF.fit(Xtr_filtered_S, Y_tr)\n",
    "display(bestF.best_params_) \n",
    "\n",
    "bestF=bestF.best_estimator_\n",
    "\n",
    "tprs=[]\n",
    "aucs=[]\n",
    "mean_fpr=np.linspace(0,1,100)\n",
    "cv = StratifiedKFold(n_splits=5)\n",
    "fig,ax=plt.subplots()\n",
    "for i, (train, test) in enumerate(cv.split(Xtr_filtered_S, Y_tr)):\n",
    "    \n",
    "    bestF.fit(Xtr_filtered_S[train],Y_tr.iloc[list(train)].values.ravel())\n",
    "    vis=plot_roc_curve(bestF, Xtr_filtered_S[test],Y_tr.iloc[list(test)], name='ROC fold{}'.format(i),alpha=0.3,lw=1,ax=ax)\n",
    "   \n",
    "    tprs.append(np.interp(mean_fpr, vis.fpr, vis.tpr))\n",
    "    tprs[-1][0]=0.0\n",
    "    aucs.append(vis.roc_auc)\n",
    "   \n",
    "ax.plot([0,1],[0,1],linestyle='--', lw=2, color='r', label = 'Chance', alpha = 0.8)\n",
    "mean_tpr = np.mean(tprs, axis=0)\n",
    "mean_tpr[-1]=1\n",
    "mean_auc=auc(mean_fpr,mean_tpr)\n",
    "std_auc=np.std(aucs)\n",
    "ax.plot(mean_fpr,mean_tpr,color='b', label=r'Mean ROC (AUC=%0.2f $\\pm$ %0.2f)' %(mean_auc,std_auc), lw=2, alpha=0.8)\n",
    "\n",
    "std_tpr = np.std(tprs, axis=0)\n",
    "tprs_upper = np.minimum(mean_tpr+std_tpr,1)\n",
    "tprs_lower=np.maximum(mean_tpr-std_tpr,0)\n",
    "ax.fill_between(mean_fpr, tprs_lower, tprs_upper,color='grey',alpha= 0.2, label=r'$\\pm$ 1 std. dev.')\n",
    "\n",
    "ax.set(xlim=[-0.01,1.01],ylim=[-0.01,1.01],title=\"Random Forest\")\n",
    "ax.legend(loc=\"lower right\")\n",
    "plt.show()\n"
   ]
  },
  {
   "cell_type": "code",
   "execution_count": 54,
   "id": "a198289f",
   "metadata": {},
   "outputs": [
    {
     "name": "stdout",
     "output_type": "stream",
     "text": [
      "Fitting 5 folds for each of 169 candidates, totalling 845 fits\n"
     ]
    },
    {
     "name": "stderr",
     "output_type": "stream",
     "text": [
      "C:\\Users\\e0998126.NUSSTU\\Anaconda3\\lib\\site-packages\\sklearn\\utils\\validation.py:993: DataConversionWarning: A column-vector y was passed when a 1d array was expected. Please change the shape of y to (n_samples, ), for example using ravel().\n",
      "  y = column_or_1d(y, warn=True)\n"
     ]
    },
    {
     "data": {
      "text/plain": [
       "{'C': 10000000000.0, 'random_state': 1303, 'tol': 0.01}"
      ]
     },
     "metadata": {},
     "output_type": "display_data"
    },
    {
     "name": "stderr",
     "output_type": "stream",
     "text": [
      "C:\\Users\\e0998126.NUSSTU\\Anaconda3\\lib\\site-packages\\sklearn\\utils\\deprecation.py:87: FutureWarning: Function plot_roc_curve is deprecated; Function :func:`plot_roc_curve` is deprecated in 1.0 and will be removed in 1.2. Use one of the class methods: :meth:`sklearn.metric.RocCurveDisplay.from_predictions` or :meth:`sklearn.metric.RocCurveDisplay.from_estimator`.\n",
      "  warnings.warn(msg, category=FutureWarning)\n",
      "C:\\Users\\e0998126.NUSSTU\\Anaconda3\\lib\\site-packages\\sklearn\\utils\\deprecation.py:87: FutureWarning: Function plot_roc_curve is deprecated; Function :func:`plot_roc_curve` is deprecated in 1.0 and will be removed in 1.2. Use one of the class methods: :meth:`sklearn.metric.RocCurveDisplay.from_predictions` or :meth:`sklearn.metric.RocCurveDisplay.from_estimator`.\n",
      "  warnings.warn(msg, category=FutureWarning)\n",
      "C:\\Users\\e0998126.NUSSTU\\Anaconda3\\lib\\site-packages\\sklearn\\utils\\deprecation.py:87: FutureWarning: Function plot_roc_curve is deprecated; Function :func:`plot_roc_curve` is deprecated in 1.0 and will be removed in 1.2. Use one of the class methods: :meth:`sklearn.metric.RocCurveDisplay.from_predictions` or :meth:`sklearn.metric.RocCurveDisplay.from_estimator`.\n",
      "  warnings.warn(msg, category=FutureWarning)\n",
      "C:\\Users\\e0998126.NUSSTU\\Anaconda3\\lib\\site-packages\\sklearn\\utils\\deprecation.py:87: FutureWarning: Function plot_roc_curve is deprecated; Function :func:`plot_roc_curve` is deprecated in 1.0 and will be removed in 1.2. Use one of the class methods: :meth:`sklearn.metric.RocCurveDisplay.from_predictions` or :meth:`sklearn.metric.RocCurveDisplay.from_estimator`.\n",
      "  warnings.warn(msg, category=FutureWarning)\n",
      "C:\\Users\\e0998126.NUSSTU\\Anaconda3\\lib\\site-packages\\sklearn\\utils\\deprecation.py:87: FutureWarning: Function plot_roc_curve is deprecated; Function :func:`plot_roc_curve` is deprecated in 1.0 and will be removed in 1.2. Use one of the class methods: :meth:`sklearn.metric.RocCurveDisplay.from_predictions` or :meth:`sklearn.metric.RocCurveDisplay.from_estimator`.\n",
      "  warnings.warn(msg, category=FutureWarning)\n"
     ]
    },
    {
     "data": {
      "image/png": "[encoded data removed]",
      "text/plain": [
       "<Figure size 432x288 with 1 Axes>"
      ]
     },
     "metadata": {
      "needs_background": "light"
     },
     "output_type": "display_data"
    }
   ],
   "source": [
    "from sklearn.linear_model import LogisticRegression\n",
    "\n",
    "parameters = {'C': np.logspace(-2, 10, 13), \n",
    "              'random_state':[1303],\n",
    "              'tol':np.logspace(-2, 10, 13)}\n",
    "\n",
    "\n",
    "gridL = GridSearchCV(LogisticRegression(), parameters, cv = 5, verbose = 1, n_jobs = -1)\n",
    "bestL = gridL.fit(Xtr_filtered_S, Y_tr)\n",
    "display(bestL.best_params_) \n",
    "bestL.best_score_\n",
    "LogReg=bestL.best_estimator_\n",
    "\n",
    "tprs=[]\n",
    "aucs=[]\n",
    "mean_fpr=np.linspace(0,1,100)\n",
    "cv = StratifiedKFold(n_splits=5)\n",
    "fig,ax=plt.subplots()\n",
    "for i, (train, test) in enumerate(cv.split(Xtr_filtered_S, Y_tr)):\n",
    "    \n",
    "    LogReg.fit(Xtr_filtered_S[train],Y_tr.iloc[list(train)].values.ravel())\n",
    "    vis=plot_roc_curve(LogReg, Xtr_filtered_S[test],Y_tr.iloc[list(test)], name='ROC fold{}'.format(i),alpha=0.3,lw=1,ax=ax)\n",
    "   \n",
    "    tprs.append(np.interp(mean_fpr, vis.fpr, vis.tpr))\n",
    "    tprs[-1][0]=0.0\n",
    "    aucs.append(vis.roc_auc)\n",
    "   \n",
    "ax.plot([0,1],[0,1],linestyle='--', lw=2, color='r', label = 'Chance', alpha = 0.8)\n",
    "mean_tpr = np.mean(tprs, axis=0)\n",
    "mean_tpr[-1]=1\n",
    "mean_auc=auc(mean_fpr,mean_tpr)\n",
    "std_auc=np.std(aucs)\n",
    "ax.plot(mean_fpr,mean_tpr,color='b', label=r'Mean ROC (AUC=%0.2f $\\pm$ %0.2f)' %(mean_auc,std_auc), lw=2, alpha=0.8)\n",
    "\n",
    "std_tpr = np.std(tprs, axis=0)\n",
    "tprs_upper = np.minimum(mean_tpr+std_tpr,1)\n",
    "tprs_lower=np.maximum(mean_tpr-std_tpr,0)\n",
    "ax.fill_between(mean_fpr, tprs_lower, tprs_upper,color='grey',alpha= 0.2, label=r'$\\pm$ 1 std. dev.')\n",
    "\n",
    "ax.set(xlim=[-0.01,1.01],ylim=[-0.01,1.01],title=\"Logistic Regression\")\n",
    "ax.legend(loc=\"lower right\")\n",
    "plt.show()\n"
   ]
  },
  {
   "cell_type": "code",
   "execution_count": 55,
   "id": "35665fa4",
   "metadata": {},
   "outputs": [
    {
     "name": "stdout",
     "output_type": "stream",
     "text": [
      "Fitting 5 folds for each of 3168 candidates, totalling 15840 fits\n"
     ]
    },
    {
     "name": "stderr",
     "output_type": "stream",
     "text": [
      "C:\\Users\\e0998126.NUSSTU\\Anaconda3\\lib\\site-packages\\sklearn\\model_selection\\_search.py:969: UserWarning: One or more of the test scores are non-finite: [0.75 0.75 0.69 ...  nan  nan  nan]\n",
      "  warnings.warn(\n",
      "C:\\Users\\e0998126.NUSSTU\\Anaconda3\\lib\\site-packages\\sklearn\\neighbors\\_classification.py:198: DataConversionWarning: A column-vector y was passed when a 1d array was expected. Please change the shape of y to (n_samples,), for example using ravel().\n",
      "  return self._fit(X, y)\n"
     ]
    },
    {
     "data": {
      "text/plain": [
       "{'algorithm': 'auto',\n",
       " 'metric': 'manhattan',\n",
       " 'n_neighbors': 3,\n",
       " 'weights': 'distance'}"
      ]
     },
     "metadata": {},
     "output_type": "display_data"
    },
    {
     "name": "stderr",
     "output_type": "stream",
     "text": [
      "C:\\Users\\e0998126.NUSSTU\\Anaconda3\\lib\\site-packages\\sklearn\\utils\\deprecation.py:87: FutureWarning: Function plot_roc_curve is deprecated; Function :func:`plot_roc_curve` is deprecated in 1.0 and will be removed in 1.2. Use one of the class methods: :meth:`sklearn.metric.RocCurveDisplay.from_predictions` or :meth:`sklearn.metric.RocCurveDisplay.from_estimator`.\n",
      "  warnings.warn(msg, category=FutureWarning)\n",
      "C:\\Users\\e0998126.NUSSTU\\Anaconda3\\lib\\site-packages\\sklearn\\utils\\deprecation.py:87: FutureWarning: Function plot_roc_curve is deprecated; Function :func:`plot_roc_curve` is deprecated in 1.0 and will be removed in 1.2. Use one of the class methods: :meth:`sklearn.metric.RocCurveDisplay.from_predictions` or :meth:`sklearn.metric.RocCurveDisplay.from_estimator`.\n",
      "  warnings.warn(msg, category=FutureWarning)\n",
      "C:\\Users\\e0998126.NUSSTU\\Anaconda3\\lib\\site-packages\\sklearn\\utils\\deprecation.py:87: FutureWarning: Function plot_roc_curve is deprecated; Function :func:`plot_roc_curve` is deprecated in 1.0 and will be removed in 1.2. Use one of the class methods: :meth:`sklearn.metric.RocCurveDisplay.from_predictions` or :meth:`sklearn.metric.RocCurveDisplay.from_estimator`.\n",
      "  warnings.warn(msg, category=FutureWarning)\n",
      "C:\\Users\\e0998126.NUSSTU\\Anaconda3\\lib\\site-packages\\sklearn\\utils\\deprecation.py:87: FutureWarning: Function plot_roc_curve is deprecated; Function :func:`plot_roc_curve` is deprecated in 1.0 and will be removed in 1.2. Use one of the class methods: :meth:`sklearn.metric.RocCurveDisplay.from_predictions` or :meth:`sklearn.metric.RocCurveDisplay.from_estimator`.\n",
      "  warnings.warn(msg, category=FutureWarning)\n",
      "C:\\Users\\e0998126.NUSSTU\\Anaconda3\\lib\\site-packages\\sklearn\\utils\\deprecation.py:87: FutureWarning: Function plot_roc_curve is deprecated; Function :func:`plot_roc_curve` is deprecated in 1.0 and will be removed in 1.2. Use one of the class methods: :meth:`sklearn.metric.RocCurveDisplay.from_predictions` or :meth:`sklearn.metric.RocCurveDisplay.from_estimator`.\n",
      "  warnings.warn(msg, category=FutureWarning)\n"
     ]
    },
    {
     "data": {
      "image/png": "[encoded data removed]",
      "text/plain": [
       "<Figure size 432x288 with 1 Axes>"
      ]
     },
     "metadata": {
      "needs_background": "light"
     },
     "output_type": "display_data"
    }
   ],
   "source": [
    "from sklearn.neighbors import KNeighborsClassifier\n",
    "\n",
    "parameters = {'n_neighbors': range(1,100),\n",
    "              'weights':['uniform', 'distance'],\n",
    "              'algorithm':['auto', 'ball_tree', 'kd_tree', 'brute'],\n",
    "              'metric':['euclidean','manhattan','l1','l2']}\n",
    "\n",
    "\n",
    "gridN = GridSearchCV(KNeighborsClassifier(), parameters, cv = 5, verbose = 1, n_jobs = -1)\n",
    "bestN = gridN.fit(Xtr_filtered_S, Y_tr)\n",
    "display(bestN.best_params_) \n",
    "bestN.best_score_\n",
    "\n",
    "KNN=bestN.best_estimator_\n",
    "\n",
    "tprs=[]\n",
    "aucs=[]\n",
    "mean_fpr=np.linspace(0,1,100)\n",
    "cv = StratifiedKFold(n_splits=5)\n",
    "fig,ax=plt.subplots()\n",
    "for i, (train, test) in enumerate(cv.split(Xtr_filtered_S, Y_tr)):\n",
    "    \n",
    "    KNN.fit(Xtr_filtered_S[train],Y_tr.iloc[list(train)].values.ravel())\n",
    "    vis=plot_roc_curve(KNN, Xtr_filtered_S[test],Y_tr.iloc[list(test)], name='ROC fold{}'.format(i),alpha=0.3,lw=1,ax=ax)\n",
    "   \n",
    "    tprs.append(np.interp(mean_fpr, vis.fpr, vis.tpr))\n",
    "    tprs[-1][0]=0.0\n",
    "    aucs.append(vis.roc_auc)\n",
    "   \n",
    "ax.plot([0,1],[0,1],linestyle='--', lw=2, color='r', label = 'Chance', alpha = 0.8)\n",
    "mean_tpr = np.mean(tprs, axis=0)\n",
    "mean_tpr[-1]=1\n",
    "mean_auc=auc(mean_fpr,mean_tpr)\n",
    "std_auc=np.std(aucs)\n",
    "ax.plot(mean_fpr,mean_tpr,color='b', label=r'Mean ROC (AUC=%0.2f $\\pm$ %0.2f)' %(mean_auc,std_auc), lw=2, alpha=0.8)\n",
    "\n",
    "std_tpr = np.std(tprs, axis=0)\n",
    "tprs_upper = np.minimum(mean_tpr+std_tpr,1)\n",
    "tprs_lower=np.maximum(mean_tpr-std_tpr,0)\n",
    "ax.fill_between(mean_fpr, tprs_lower, tprs_upper,color='grey',alpha= 0.2, label=r'$\\pm$ 1 std. dev.')\n",
    "\n",
    "ax.set(xlim=[-0.01,1.01],ylim=[-0.01,1.01],title=\"K-nearest neighbour\")\n",
    "ax.legend(loc=\"lower right\")\n",
    "plt.show()"
   ]
  },
  {
   "cell_type": "code",
   "execution_count": 64,
   "id": "2135b245",
   "metadata": {},
   "outputs": [
    {
     "name": "stdout",
     "output_type": "stream",
     "text": [
      "Fitting 5 folds for each of 13 candidates, totalling 65 fits\n"
     ]
    },
    {
     "name": "stderr",
     "output_type": "stream",
     "text": [
      "C:\\Users\\e0998126.NUSSTU\\Anaconda3\\lib\\site-packages\\sklearn\\utils\\validation.py:993: DataConversionWarning: A column-vector y was passed when a 1d array was expected. Please change the shape of y to (n_samples, ), for example using ravel().\n",
      "  y = column_or_1d(y, warn=True)\n"
     ]
    },
    {
     "data": {
      "text/plain": [
       "{'var_smoothing': 0.01}"
      ]
     },
     "metadata": {},
     "output_type": "display_data"
    },
    {
     "name": "stderr",
     "output_type": "stream",
     "text": [
      "C:\\Users\\e0998126.NUSSTU\\Anaconda3\\lib\\site-packages\\sklearn\\utils\\deprecation.py:87: FutureWarning: Function plot_roc_curve is deprecated; Function :func:`plot_roc_curve` is deprecated in 1.0 and will be removed in 1.2. Use one of the class methods: :meth:`sklearn.metric.RocCurveDisplay.from_predictions` or :meth:`sklearn.metric.RocCurveDisplay.from_estimator`.\n",
      "  warnings.warn(msg, category=FutureWarning)\n",
      "C:\\Users\\e0998126.NUSSTU\\Anaconda3\\lib\\site-packages\\sklearn\\utils\\deprecation.py:87: FutureWarning: Function plot_roc_curve is deprecated; Function :func:`plot_roc_curve` is deprecated in 1.0 and will be removed in 1.2. Use one of the class methods: :meth:`sklearn.metric.RocCurveDisplay.from_predictions` or :meth:`sklearn.metric.RocCurveDisplay.from_estimator`.\n",
      "  warnings.warn(msg, category=FutureWarning)\n",
      "C:\\Users\\e0998126.NUSSTU\\Anaconda3\\lib\\site-packages\\sklearn\\utils\\deprecation.py:87: FutureWarning: Function plot_roc_curve is deprecated; Function :func:`plot_roc_curve` is deprecated in 1.0 and will be removed in 1.2. Use one of the class methods: :meth:`sklearn.metric.RocCurveDisplay.from_predictions` or :meth:`sklearn.metric.RocCurveDisplay.from_estimator`.\n",
      "  warnings.warn(msg, category=FutureWarning)\n",
      "C:\\Users\\e0998126.NUSSTU\\Anaconda3\\lib\\site-packages\\sklearn\\utils\\deprecation.py:87: FutureWarning: Function plot_roc_curve is deprecated; Function :func:`plot_roc_curve` is deprecated in 1.0 and will be removed in 1.2. Use one of the class methods: :meth:`sklearn.metric.RocCurveDisplay.from_predictions` or :meth:`sklearn.metric.RocCurveDisplay.from_estimator`.\n",
      "  warnings.warn(msg, category=FutureWarning)\n",
      "C:\\Users\\e0998126.NUSSTU\\Anaconda3\\lib\\site-packages\\sklearn\\utils\\deprecation.py:87: FutureWarning: Function plot_roc_curve is deprecated; Function :func:`plot_roc_curve` is deprecated in 1.0 and will be removed in 1.2. Use one of the class methods: :meth:`sklearn.metric.RocCurveDisplay.from_predictions` or :meth:`sklearn.metric.RocCurveDisplay.from_estimator`.\n",
      "  warnings.warn(msg, category=FutureWarning)\n"
     ]
    },
    {
     "data": {
      "image/png": "[encoded data removed]",
      "text/plain": [
       "<Figure size 432x288 with 1 Axes>"
      ]
     },
     "metadata": {
      "needs_background": "light"
     },
     "output_type": "display_data"
    }
   ],
   "source": [
    "from sklearn.naive_bayes import GaussianNB\n",
    "\n",
    "parameters = {'var_smoothing': np.logspace(-2, 10, 13),}\n",
    "\n",
    "\n",
    "gridG = GridSearchCV(GaussianNB(), parameters, cv = 5, verbose = 1, n_jobs = -1)\n",
    "bestG = gridG.fit(Xtr_filtered_S, Y_tr)\n",
    "display(bestG.best_params_) \n",
    "bestG.best_score_\n",
    "\n",
    "GNB=bestG.best_estimator_\n",
    "\n",
    "tprs=[]\n",
    "aucs=[]\n",
    "mean_fpr=np.linspace(0,1,100)\n",
    "cv = StratifiedKFold(n_splits=5)\n",
    "fig,ax=plt.subplots()\n",
    "for i, (train, test) in enumerate(cv.split(Xtr_filtered_S, Y_tr)):\n",
    "    \n",
    "    GNB.fit(Xtr_filtered_S[train],Y_tr.iloc[list(train)].values.ravel())\n",
    "    vis=plot_roc_curve(GNB, Xtr_filtered_S[test],Y_tr.iloc[list(test)], name='ROC fold{}'.format(i),alpha=0.3,lw=1,ax=ax)\n",
    "   \n",
    "    tprs.append(np.interp(mean_fpr, vis.fpr, vis.tpr))\n",
    "    tprs[-1][0]=0.0\n",
    "    aucs.append(vis.roc_auc)\n",
    "   \n",
    "ax.plot([0,1],[0,1],linestyle='--', lw=2, color='r', label = 'Chance', alpha = 0.8)\n",
    "mean_tpr = np.mean(tprs, axis=0)\n",
    "mean_tpr[-1]=1\n",
    "mean_auc=auc(mean_fpr,mean_tpr)\n",
    "std_auc=np.std(aucs)\n",
    "ax.plot(mean_fpr,mean_tpr,color='b', label=r'Mean ROC (AUC=%0.2f $\\pm$ %0.2f)' %(mean_auc,std_auc), lw=2, alpha=0.8)\n",
    "\n",
    "std_tpr = np.std(tprs, axis=0)\n",
    "tprs_upper = np.minimum(mean_tpr+std_tpr,1)\n",
    "tprs_lower=np.maximum(mean_tpr-std_tpr,0)\n",
    "ax.fill_between(mean_fpr, tprs_lower, tprs_upper,color='grey',alpha= 0.2, label=r'$\\pm$ 1 std. dev.')\n",
    "\n",
    "ax.set(xlim=[-0.01,1.01],ylim=[-0.01,1.01],title=\"Gaussian Naive Bayes\")\n",
    "ax.legend(loc=\"lower right\")\n",
    "plt.show()"
   ]
  },
  {
   "cell_type": "code",
   "execution_count": 65,
   "id": "aaacf71f",
   "metadata": {},
   "outputs": [
    {
     "data": {
      "image/png": "[encoded data removed]",
      "text/plain": [
       "<Figure size 432x288 with 1 Axes>"
      ]
     },
     "metadata": {
      "needs_background": "light"
     },
     "output_type": "display_data"
    },
    {
     "name": "stdout",
     "output_type": "stream",
     "text": [
      "Accuracy = 0.7000\n",
      "Precision = 0.7500\n",
      "Recall = 0.6000\n",
      "Specificity = 0.8000\n",
      "False positive rate = 0.2000\n",
      "F1-score = 0.6667\n",
      "Confusion matrix (%):\n",
      "[[40. 10.]\n",
      " [20. 30.]]\n"
     ]
    },
    {
     "data": {
      "image/png": "[encoded data removed]",
      "text/plain": [
       "<Figure size 432x288 with 1 Axes>"
      ]
     },
     "metadata": {
      "needs_background": "light"
     },
     "output_type": "display_data"
    },
    {
     "name": "stdout",
     "output_type": "stream",
     "text": [
      "Accuracy = 0.7500\n",
      "Precision = 0.7778\n",
      "Recall = 0.7000\n",
      "Specificity = 0.8000\n",
      "False positive rate = 0.2000\n",
      "F1-score = 0.7368\n",
      "Confusion matrix (%):\n",
      "[[40. 10.]\n",
      " [15. 35.]]\n"
     ]
    },
    {
     "data": {
      "image/png": "[encoded data removed]",
      "text/plain": [
       "<Figure size 432x288 with 1 Axes>"
      ]
     },
     "metadata": {
      "needs_background": "light"
     },
     "output_type": "display_data"
    },
    {
     "name": "stdout",
     "output_type": "stream",
     "text": [
      "Accuracy = 0.8000\n",
      "Precision = 0.7500\n",
      "Recall = 0.9000\n",
      "Specificity = 0.7000\n",
      "False positive rate = 0.3000\n",
      "F1-score = 0.8182\n",
      "Confusion matrix (%):\n",
      "[[35. 15.]\n",
      " [ 5. 45.]]\n"
     ]
    },
    {
     "data": {
      "image/png": "[encoded data removed]",
      "text/plain": [
       "<Figure size 432x288 with 1 Axes>"
      ]
     },
     "metadata": {
      "needs_background": "light"
     },
     "output_type": "display_data"
    },
    {
     "name": "stdout",
     "output_type": "stream",
     "text": [
      "Accuracy = 0.5500\n",
      "Precision = 0.5333\n",
      "Recall = 0.8000\n",
      "Specificity = 0.3000\n",
      "False positive rate = 0.7000\n",
      "F1-score = 0.6400\n",
      "Confusion matrix (%):\n",
      "[[15. 35.]\n",
      " [10. 40.]]\n"
     ]
    },
    {
     "data": {
      "image/png": "[encoded data removed]",
      "text/plain": [
       "<Figure size 432x288 with 1 Axes>"
      ]
     },
     "metadata": {
      "needs_background": "light"
     },
     "output_type": "display_data"
    },
    {
     "name": "stdout",
     "output_type": "stream",
     "text": [
      "Accuracy = 0.6500\n",
      "Precision = 0.7143\n",
      "Recall = 0.5000\n",
      "Specificity = 0.8000\n",
      "False positive rate = 0.2000\n",
      "F1-score = 0.5882\n",
      "Confusion matrix (%):\n",
      "[[40. 10.]\n",
      " [25. 25.]]\n"
     ]
    },
    {
     "data": {
      "image/png": "[encoded data removed]",
      "text/plain": [
       "<Figure size 432x288 with 1 Axes>"
      ]
     },
     "metadata": {
      "needs_background": "light"
     },
     "output_type": "display_data"
    },
    {
     "name": "stdout",
     "output_type": "stream",
     "text": [
      "Accuracy = 0.6000\n",
      "Precision = 1.0000\n",
      "Recall = 0.2000\n",
      "Specificity = 1.0000\n",
      "False positive rate = 0.0000\n",
      "F1-score = 0.3333\n",
      "Confusion matrix (%):\n",
      "[[50.  0.]\n",
      " [40. 10.]]\n"
     ]
    }
   ],
   "source": [
    "X_TEST=X_val[['ENSG00000255823.5','ENSG00000087086.15','ENSG00000163736.4','ENSG00000205542.11','ENSG00000163191.6',\n",
    "      'ENSG00000163220.11','ENSG00000075624.17']]\n",
    "#,'ENSG00000131149.19','ENSG00000131002.12'\n",
    "XTEST_S = transformer.transform(X_TEST)\n",
    "\n",
    "SVM_pred = clfSVC.predict(XTEST_S)\n",
    "RocCurveDisplay.from_estimator(clfSVC,XTEST_S,Y_val)\n",
    "ax.set(title=\"SVM (poly)\")\n",
    "\n",
    "plt.show()\n",
    "cmat = confusion_matrix(Y_val, SVM_pred)\n",
    "printPerformance(cmat)\n",
    "\n",
    "MLP_pred = mlp.predict(XTEST_S)\n",
    "RocCurveDisplay.from_estimator(mlp,XTEST_S,Y_val)\n",
    "ax.set(title=\"MLP\")\n",
    "plt.show()\n",
    "cmat = confusion_matrix(Y_val, MLP_pred)\n",
    "printPerformance(cmat)\n",
    "\n",
    "RF_pred = bestF.predict(XTEST_S)\n",
    "RocCurveDisplay.from_estimator(bestF,XTEST_S,Y_val)\n",
    "ax.set(title=\"Random Forest\")\n",
    "plt.show()\n",
    "cmat = confusion_matrix(Y_val, RF_pred)\n",
    "printPerformance(cmat)\n",
    "\n",
    "LogReg_pred = LogReg.predict(XTEST_S)\n",
    "RocCurveDisplay.from_estimator(LogReg,XTEST_S,Y_val)\n",
    "ax.set(title=\"Logistic Regression\")\n",
    "plt.show()\n",
    "cmat = confusion_matrix(Y_val, LogReg_pred)\n",
    "printPerformance(cmat)\n",
    "\n",
    "KNN_pred = KNN.predict(XTEST_S)\n",
    "RocCurveDisplay.from_estimator(KNN,XTEST_S,Y_val)\n",
    "ax.set(title=\"K Nearest Neighbour\")\n",
    "plt.show()\n",
    "cmat = confusion_matrix(Y_val, KNN_pred)\n",
    "printPerformance(cmat)\n",
    "\n",
    "GNB_pred = GNB.predict(XTEST_S)\n",
    "RocCurveDisplay.from_estimator(GNB,XTEST_S,Y_val)\n",
    "ax.set(title=\"Gaussian Naive Bayes\")\n",
    "plt.show()\n",
    "cmat = confusion_matrix(Y_val, GNB_pred)\n",
    "printPerformance(cmat)\n"
   ]
  },
  {
   "cell_type": "code",
   "execution_count": null,
   "id": "ed8edbe2",
   "metadata": {},
   "outputs": [],
   "source": []
  }
 ],
 "metadata": {
  "kernelspec": {
   "display_name": "Python 3 (ipykernel)",
   "language": "python",
   "name": "python3"
  },
  "language_info": {
   "codemirror_mode": {
    "name": "ipython",
    "version": 3
   },
   "file_extension": ".py",
   "mimetype": "text/x-python",
   "name": "python",
   "nbconvert_exporter": "python",
   "pygments_lexer": "ipython3",
   "version": "3.9.12"
  }
 },
 "nbformat": 4,
 "nbformat_minor": 5
}
